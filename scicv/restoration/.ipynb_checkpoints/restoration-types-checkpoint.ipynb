{
 "cells": [
  {
   "cell_type": "markdown",
   "id": "31e70747",
   "metadata": {},
   "source": [
    "**Inverse filtering:** This technique is used to restore an image by applying an inverse filter to the degraded image.\n",
    "\n",
    "**Wiener filtering:** This technique is used to restore an image by applying a filter that minimizes the mean-square error between the restored image and the original image.\n",
    "\n",
    "**Constrained least squares filtering:** This technique is used to restore an image by minimizing the mean-square error between the restored image and the degraded image subject to constraints on the restored image.\n",
    "\n",
    "**Total variation regularization:** This technique is used to restore an image by minimizing a cost function that includes a term that promotes piecewise constant solutions.\n",
    "\n",
    "**Non-local Means (NLM):** This technique is used to denoise an image by replacing each pixel with the average of similar pixels in the image.\n",
    "\n",
    "**BM3D:** This technique is used to denoise an image by grouping similar patches in the image and averaging the patches to reduce noise.\n",
    "\n",
    "**Wavelet Transform:** This technique is used to denoise an image by using wavelet coefficients to represent the image, and thresholding the wavelet coefficients to reduce noise.\n",
    "\n",
    "**Deconvolution :** this technique is used to restore an image from a blurred one by removing the effect of the blur, it can be done by using point spread function (PSF) or by using blind deconvolution."
   ]
  },
  {
   "cell_type": "code",
   "execution_count": null,
   "id": "264b41ca",
   "metadata": {},
   "outputs": [],
   "source": []
  }
 ],
 "metadata": {
  "kernelspec": {
   "display_name": "Python 3 (ipykernel)",
   "language": "python",
   "name": "python3"
  },
  "language_info": {
   "codemirror_mode": {
    "name": "ipython",
    "version": 3
   },
   "file_extension": ".py",
   "mimetype": "text/x-python",
   "name": "python",
   "nbconvert_exporter": "python",
   "pygments_lexer": "ipython3",
   "version": "3.9.12"
  }
 },
 "nbformat": 4,
 "nbformat_minor": 5
}
