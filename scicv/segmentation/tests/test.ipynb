{
 "cells": [
  {
   "cell_type": "markdown",
   "id": "1565c3cb",
   "metadata": {},
   "source": [
    "## bImage Segmentation\n",
    "- Segment images\n",
    "\n",
    "## Image Quality\n",
    "- Peak signal-to-noise ratio, structural similarity index (SSIM); no-reference image quality metrics; test chart based quality measurements"
   ]
  },
  {
   "cell_type": "code",
   "execution_count": 2,
   "id": "83530313",
   "metadata": {},
   "outputs": [],
   "source": [
    "path = \"../../data/avengers.jpg\"\n",
    "path2 = \"../../data/hulk.jpg\""
   ]
  },
  {
   "cell_type": "code",
   "execution_count": 3,
   "id": "8d7c8849",
   "metadata": {
    "scrolled": true
   },
   "outputs": [
    {
     "ename": "TypeError",
     "evalue": "unsupported operand type(s) for -: 'NoneType' and 'NoneType'",
     "output_type": "error",
     "traceback": [
      "\u001b[1;31m---------------------------------------------------------------------------\u001b[0m",
      "\u001b[1;31mTypeError\u001b[0m                                 Traceback (most recent call last)",
      "Input \u001b[1;32mIn [3]\u001b[0m, in \u001b[0;36m<cell line: 12>\u001b[1;34m()\u001b[0m\n\u001b[0;32m     10\u001b[0m original_image \u001b[38;5;241m=\u001b[39m \u001b[38;5;124m\"\u001b[39m\u001b[38;5;124moriginal.jpg\u001b[39m\u001b[38;5;124m\"\u001b[39m\n\u001b[0;32m     11\u001b[0m processed_image \u001b[38;5;241m=\u001b[39m \u001b[38;5;124m\"\u001b[39m\u001b[38;5;124mprocessed.jpg\u001b[39m\u001b[38;5;124m\"\u001b[39m\n\u001b[1;32m---> 12\u001b[0m mse \u001b[38;5;241m=\u001b[39m \u001b[43mmean_squared_error\u001b[49m\u001b[43m(\u001b[49m\u001b[43moriginal_image\u001b[49m\u001b[43m,\u001b[49m\u001b[43m \u001b[49m\u001b[43mprocessed_image\u001b[49m\u001b[43m)\u001b[49m\n\u001b[0;32m     13\u001b[0m \u001b[38;5;28mprint\u001b[39m(\u001b[38;5;124m\"\u001b[39m\u001b[38;5;124mMean Squared Error: \u001b[39m\u001b[38;5;124m\"\u001b[39m, mse)\n",
      "Input \u001b[1;32mIn [3]\u001b[0m, in \u001b[0;36mmean_squared_error\u001b[1;34m(original, processed)\u001b[0m\n\u001b[0;32m      5\u001b[0m original \u001b[38;5;241m=\u001b[39m cv2\u001b[38;5;241m.\u001b[39mimread(original, cv2\u001b[38;5;241m.\u001b[39mIMREAD_GRAYSCALE)\n\u001b[0;32m      6\u001b[0m processed \u001b[38;5;241m=\u001b[39m cv2\u001b[38;5;241m.\u001b[39mimread(processed, cv2\u001b[38;5;241m.\u001b[39mIMREAD_GRAYSCALE)\n\u001b[1;32m----> 7\u001b[0m mse \u001b[38;5;241m=\u001b[39m np\u001b[38;5;241m.\u001b[39mmean((\u001b[43moriginal\u001b[49m\u001b[43m \u001b[49m\u001b[38;5;241;43m-\u001b[39;49m\u001b[43m \u001b[49m\u001b[43mprocessed\u001b[49m) \u001b[38;5;241m*\u001b[39m\u001b[38;5;241m*\u001b[39m \u001b[38;5;241m2\u001b[39m)\n\u001b[0;32m      8\u001b[0m \u001b[38;5;28;01mreturn\u001b[39;00m mse\n",
      "\u001b[1;31mTypeError\u001b[0m: unsupported operand type(s) for -: 'NoneType' and 'NoneType'"
     ]
    }
   ],
   "source": [
    "import numpy as np\n",
    "import cv2\n",
    "\n",
    "def mean_squared_error(original, processed):\n",
    "    original = cv2.imread(original, cv2.IMREAD_GRAYSCALE)\n",
    "    processed = cv2.imread(processed, cv2.IMREAD_GRAYSCALE)\n",
    "    mse = np.mean((original - processed) ** 2)\n",
    "    return mse\n",
    "\n",
    "original_image = \"original.jpg\"\n",
    "processed_image = \"processed.jpg\"\n",
    "mse = mean_squared_error(original_image, processed_image)\n",
    "print(\"Mean Squared Error: \", mse)\n"
   ]
  },
  {
   "cell_type": "code",
   "execution_count": null,
   "id": "77ba8c78",
   "metadata": {},
   "outputs": [],
   "source": [
    "me"
   ]
  }
 ],
 "metadata": {
  "kernelspec": {
   "display_name": "Python 3 (ipykernel)",
   "language": "python",
   "name": "python3"
  },
  "language_info": {
   "codemirror_mode": {
    "name": "ipython",
    "version": 3
   },
   "file_extension": ".py",
   "mimetype": "text/x-python",
   "name": "python",
   "nbconvert_exporter": "python",
   "pygments_lexer": "ipython3",
   "version": "3.9.12"
  }
 },
 "nbformat": 4,
 "nbformat_minor": 5
}
