{
 "cells": [
  {
   "cell_type": "code",
   "execution_count": null,
   "id": "1d766787",
   "metadata": {},
   "outputs": [],
   "source": [
    "import numpy as np \n",
    "import scipy.fft as fft\n",
    "def fft2(img):\n",
    "    return np.clip(fft.fft2(img),0,255).real"
   ]
  },
  {
   "cell_type": "code",
   "execution_count": null,
   "id": "d8bd8ca2",
   "metadata": {},
   "outputs": [],
   "source": [
    "import numpy as np\n",
    "\n",
    "def fft2d(image):\n",
    "    return np.fft.fft2(image)\n",
    "\n",
    "def ifft2d(fourier_image):\n",
    "    return np.fft.ifft2(fourier_image)\n",
    "\n",
    "def fft_image_processing(image):\n",
    "    # Apply FFT on the image\n",
    "    fourier_image = fft2d(image)\n",
    "    # Perform any desired image processing operations in the Fourier domain\n",
    "    # ...\n",
    "    # Apply Inverse FFT to get back the processed image in the spatial domain\n",
    "    processed_image = ifft2d(fourier_image)\n",
    "    return np.abs(processed_image)\n"
   ]
  },
  {
   "cell_type": "code",
   "execution_count": null,
   "id": "07b604e0",
   "metadata": {},
   "outputs": [],
   "source": []
  },
  {
   "cell_type": "code",
   "execution_count": null,
   "id": "51e29ca2",
   "metadata": {},
   "outputs": [],
   "source": []
  },
  {
   "cell_type": "code",
   "execution_count": null,
   "id": "b5c82927",
   "metadata": {},
   "outputs": [],
   "source": []
  },
  {
   "cell_type": "code",
   "execution_count": null,
   "id": "76866881",
   "metadata": {},
   "outputs": [],
   "source": []
  },
  {
   "cell_type": "code",
   "execution_count": null,
   "id": "92ac520c",
   "metadata": {},
   "outputs": [],
   "source": []
  },
  {
   "cell_type": "code",
   "execution_count": null,
   "id": "10e9aee0",
   "metadata": {},
   "outputs": [],
   "source": []
  },
  {
   "cell_type": "code",
   "execution_count": null,
   "id": "a69ea4cc",
   "metadata": {},
   "outputs": [],
   "source": []
  },
  {
   "cell_type": "code",
   "execution_count": 1,
   "id": "39b055ab",
   "metadata": {},
   "outputs": [],
   "source": [
    "import scipy.signal as sig"
   ]
  },
  {
   "cell_type": "code",
   "execution_count": 1,
   "id": "8672c6f6",
   "metadata": {},
   "outputs": [],
   "source": [
    "import scipy.fft as fft"
   ]
  },
  {
   "cell_type": "code",
   "execution_count": 2,
   "id": "c91c54b6",
   "metadata": {},
   "outputs": [],
   "source": [
    "path = \"../../data/avengers.jpg\""
   ]
  },
  {
   "cell_type": "code",
   "execution_count": 3,
   "id": "ad8279e4",
   "metadata": {},
   "outputs": [],
   "source": [
    "import cv2"
   ]
  },
  {
   "cell_type": "code",
   "execution_count": 11,
   "id": "4adf5865",
   "metadata": {},
   "outputs": [],
   "source": [
    "img = cv2.imread(path,0)"
   ]
  },
  {
   "cell_type": "code",
   "execution_count": 12,
   "id": "30c64de9",
   "metadata": {},
   "outputs": [
    {
     "data": {
      "text/plain": [
       "array([[188, 194, 193, ..., 188, 190, 190],\n",
       "       [190, 146, 102, ..., 112, 151, 193],\n",
       "       [188, 100,  21, ...,  28, 101, 185],\n",
       "       ...,\n",
       "       [185, 149, 127, ..., 158, 174, 192],\n",
       "       [196, 167, 154, ..., 169, 180, 194],\n",
       "       [192, 192, 192, ..., 192, 192, 191]], dtype=uint8)"
      ]
     },
     "execution_count": 12,
     "metadata": {},
     "output_type": "execute_result"
    }
   ],
   "source": [
    "img"
   ]
  },
  {
   "cell_type": "code",
   "execution_count": 13,
   "id": "7766f480",
   "metadata": {},
   "outputs": [],
   "source": [
    "import numpy as np "
   ]
  },
  {
   "cell_type": "code",
   "execution_count": null,
   "id": "8f6c302d",
   "metadata": {},
   "outputs": [],
   "source": [
    "import numpy as np \n",
    "import scipy.fft as fft\n",
    "def fft2(img):\n",
    "    return np.clip(fft.fft2(img),0,255).real"
   ]
  },
  {
   "cell_type": "code",
   "execution_count": 29,
   "id": "e9d6142c",
   "metadata": {},
   "outputs": [],
   "source": [
    "ff = np.clip(fft.fft2(img),0,255).real"
   ]
  },
  {
   "cell_type": "code",
   "execution_count": 20,
   "id": "fa7b61d6",
   "metadata": {},
   "outputs": [
    {
     "data": {
      "text/plain": [
       "(1441, 2560)"
      ]
     },
     "execution_count": 20,
     "metadata": {},
     "output_type": "execute_result"
    }
   ],
   "source": [
    "ff.shape"
   ]
  },
  {
   "cell_type": "code",
   "execution_count": 21,
   "id": "12763af6",
   "metadata": {},
   "outputs": [
    {
     "data": {
      "text/plain": [
       "array([[255., 255., 255., ..., 255., 255., 255.],\n",
       "       [  0.,   0.,   0., ...,   0.,   0.,   0.],\n",
       "       [  0., 255., 255., ...,   0.,   0., 255.],\n",
       "       ...,\n",
       "       [255.,   0.,   0., ..., 255., 255.,   0.],\n",
       "       [  0., 255.,   0., ...,   0., 255., 255.],\n",
       "       [  0.,   0.,   0., ..., 255.,   0.,   0.]])"
      ]
     },
     "execution_count": 21,
     "metadata": {},
     "output_type": "execute_result"
    }
   ],
   "source": [
    "ff"
   ]
  },
  {
   "cell_type": "code",
   "execution_count": 22,
   "id": "fba428ce",
   "metadata": {},
   "outputs": [],
   "source": [
    "cv2.imshow('wn',ff)\n",
    "cv2.waitKey(0)\n",
    "cv2.destroyAllWindows()"
   ]
  },
  {
   "cell_type": "code",
   "execution_count": 23,
   "id": "ad54dd95",
   "metadata": {},
   "outputs": [],
   "source": [
    "import numpy as np\n",
    "\n",
    "def fft2d(image):\n",
    "    return np.fft.fft2(image)\n",
    "\n",
    "def ifft2d(fourier_image):\n",
    "    return np.fft.ifft2(fourier_image)\n",
    "\n",
    "def fft_image_processing(image):\n",
    "    # Apply FFT on the image\n",
    "    fourier_image = fft2d(image)\n",
    "    # Perform any desired image processing operations in the Fourier domain\n",
    "    # ...\n",
    "    # Apply Inverse FFT to get back the processed image in the spatial domain\n",
    "    processed_image = ifft2d(fourier_image)\n",
    "    return np.abs(processed_image)\n"
   ]
  },
  {
   "cell_type": "code",
   "execution_count": 32,
   "id": "514cd275",
   "metadata": {},
   "outputs": [
    {
     "data": {
      "text/plain": [
       "array([[83.95282898, 20.69626912,  2.12040939, ...,  1.95996591,\n",
       "         2.12040939, 20.69626912],\n",
       "       [-4.40904144, -2.02514792, -0.63579063, ..., -1.11065207,\n",
       "        -3.38223176, -7.17854688],\n",
       "       [-3.72396773,  4.56168472,  2.03420963, ..., -0.9656568 ,\n",
       "        -1.28148475,  2.93535094],\n",
       "       ...,\n",
       "       [ 1.66375117, -0.31761654, -0.66899872, ...,  1.8736454 ,\n",
       "         0.18134258, -2.07362196],\n",
       "       [-3.72396773,  2.93535094, -1.28148475, ..., -0.87711619,\n",
       "         2.03420963,  4.56168472],\n",
       "       [-4.40904144, -7.17854688, -3.38223176, ...,  1.33019071,\n",
       "        -0.63579063, -2.02514792]])"
      ]
     },
     "execution_count": 32,
     "metadata": {},
     "output_type": "execute_result"
    }
   ],
   "source": []
  },
  {
   "cell_type": "code",
   "execution_count": null,
   "id": "36cf6fac",
   "metadata": {},
   "outputs": [],
   "source": []
  },
  {
   "cell_type": "code",
   "execution_count": null,
   "id": "9ae1599b",
   "metadata": {},
   "outputs": [],
   "source": []
  },
  {
   "cell_type": "code",
   "execution_count": 25,
   "id": "55b1adca",
   "metadata": {},
   "outputs": [],
   "source": [
    "imgf = fft_image_processing(img)"
   ]
  },
  {
   "cell_type": "code",
   "execution_count": 26,
   "id": "32d29434",
   "metadata": {},
   "outputs": [],
   "source": [
    "cv2.imshow('wn',imgf)\n",
    "cv2.waitKey(0)\n",
    "cv2.destroyAllWindows()"
   ]
  },
  {
   "cell_type": "code",
   "execution_count": 27,
   "id": "92e33dfd",
   "metadata": {},
   "outputs": [
    {
     "data": {
      "text/plain": [
       "array([[188., 194., 193., ..., 188., 190., 190.],\n",
       "       [190., 146., 102., ..., 112., 151., 193.],\n",
       "       [188., 100.,  21., ...,  28., 101., 185.],\n",
       "       ...,\n",
       "       [185., 149., 127., ..., 158., 174., 192.],\n",
       "       [196., 167., 154., ..., 169., 180., 194.],\n",
       "       [192., 192., 192., ..., 192., 192., 191.]])"
      ]
     },
     "execution_count": 27,
     "metadata": {},
     "output_type": "execute_result"
    }
   ],
   "source": [
    "imgf"
   ]
  },
  {
   "cell_type": "code",
   "execution_count": null,
   "id": "4ab92b05",
   "metadata": {},
   "outputs": [],
   "source": []
  }
 ],
 "metadata": {
  "kernelspec": {
   "display_name": "Python 3 (ipykernel)",
   "language": "python",
   "name": "python3"
  },
  "language_info": {
   "codemirror_mode": {
    "name": "ipython",
    "version": 3
   },
   "file_extension": ".py",
   "mimetype": "text/x-python",
   "name": "python",
   "nbconvert_exporter": "python",
   "pygments_lexer": "ipython3",
   "version": "3.9.12"
  }
 },
 "nbformat": 4,
 "nbformat_minor": 5
}
