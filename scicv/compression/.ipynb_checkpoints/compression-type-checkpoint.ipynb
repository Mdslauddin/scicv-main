{
 "cells": [
  {
   "cell_type": "markdown",
   "id": "6ac821a6",
   "metadata": {},
   "source": [
    "**Lossless Compression:** This type of compression does not lose any information from the original image, and the compressed image can be restored to the original image without any loss of information. Examples of lossless compression include Run-length encoding and Huffman coding.\n",
    "\n",
    "**Lossy Compression:** This type of compression discards some of the information from the original image, and the compressed image cannot be restored to the original image without some loss of information. Examples of lossy compression include the Discrete Cosine Transform (DCT) and the Discrete Wavelet Transform (DWT)\n",
    "\n",
    "**Transform coding:** This technique is used to decorrelate the image data so that the resulting coefficients can be quantized and encoded more efficiently. This technique is often used in lossy compression methods such as DCT, DFT, and DWT.\n",
    "\n",
    "**Vector quantization:** This technique is used to represent an image as a set of vectors, where each vector represents a group of similar pixels. The vectors are then quantized and encoded more efficiently.\n",
    "\n",
    "**Fractal compression:** This technique is used to represent an image as a set of fractals, where each fractal represents a portion of the image. The fractals are then encoded more efficiently.\n",
    "\n",
    "**Predictive coding:** this technique is used to predict the next pixel value based on the previous pixel values, the prediction error is then encoded and transmitted.\n",
    "\n",
    "**Entropy coding:** this technique is used to encode the data in a more efficient way by taking into account the probability of each symbol, it can be used in combination with other techniques like vector quantization or transform coding."
   ]
  },
  {
   "cell_type": "code",
   "execution_count": null,
   "id": "17211ce4",
   "metadata": {},
   "outputs": [],
   "source": []
  }
 ],
 "metadata": {
  "kernelspec": {
   "display_name": "Python 3 (ipykernel)",
   "language": "python",
   "name": "python3"
  },
  "language_info": {
   "codemirror_mode": {
    "name": "ipython",
    "version": 3
   },
   "file_extension": ".py",
   "mimetype": "text/x-python",
   "name": "python",
   "nbconvert_exporter": "python",
   "pygments_lexer": "ipython3",
   "version": "3.9.12"
  }
 },
 "nbformat": 4,
 "nbformat_minor": 5
}
