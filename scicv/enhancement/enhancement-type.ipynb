{
 "cells": [
  {
   "cell_type": "markdown",
   "id": "18c93035",
   "metadata": {},
   "source": [
    "**Histogram equalization:** This technique adjusts the intensity values of an image so that the histogram of the image is flat, which can improve the contrast of the image.\n",
    "\n",
    "\n",
    "**Contrast stretching:** This technique increases the dynamic range of an image by stretching the intensity values of the image to fill the full range of intensity values.\n",
    "\n",
    "**Gamma correction:** This technique adjusts the brightness of an image by applying a non-linear transformation to the intensity values of the image.\n",
    "\n",
    "**Median filtering:** This technique removes noise from an image by replacing each pixel with the median value of the pixels in a neighborhood around the pixel.\n",
    "\n",
    "**Sharpening:** This technique increases the apparent sharpness of an image by accentuating the high-frequency details in the image.\n",
    "\n",
    "**Denoising :** this technique is about removing noise from the image, different algorithms can be used for denoising such as Non-local Means (NLM), BM3D, Wavelet Transform.\n",
    "\n",
    "**Deconvolution:** This technique is used to recover a sharp image from a blurry one by removing the effect of the blur.\n",
    "\n",
    "**Color enhancement:** this technique is used to adjust and enhance the color of the image, it can be used to increase or decrease the saturation, brightness, and adjust the color balance."
   ]
  },
  {
   "cell_type": "code",
   "execution_count": null,
   "id": "a8921ea1",
   "metadata": {},
   "outputs": [],
   "source": []
  }
 ],
 "metadata": {
  "kernelspec": {
   "display_name": "Python 3 (ipykernel)",
   "language": "python",
   "name": "python3"
  },
  "language_info": {
   "codemirror_mode": {
    "name": "ipython",
    "version": 3
   },
   "file_extension": ".py",
   "mimetype": "text/x-python",
   "name": "python",
   "nbconvert_exporter": "python",
   "pygments_lexer": "ipython3",
   "version": "3.9.12"
  }
 },
 "nbformat": 4,
 "nbformat_minor": 5
}
