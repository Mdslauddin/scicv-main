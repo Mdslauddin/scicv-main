{
 "cells": [
  {
   "cell_type": "markdown",
   "id": "8844416d",
   "metadata": {},
   "source": [
    "**Image morphing:** The process of transforming one image into another.\n",
    "\n",
    "**Voice morphing:** The process of altering a person's voice to sound like someone else or to change the pitch and tone of a person's voice.\n",
    "\n",
    "**3D morphing:** The process of transforming one 3D object into another.\n",
    "\n",
    "**Video morphing:** The process of transforming one video into another by blending different frames together.\n",
    "\n",
    "**Audio morphing:** The process of transforming one audio into another by blending different sound together.\n",
    "\n",
    "**Temporal morphing:** The process of transforming a sequence of images, videos, audio over time."
   ]
  },
  {
   "cell_type": "code",
   "execution_count": null,
   "id": "e3171b3c",
   "metadata": {},
   "outputs": [],
   "source": []
  }
 ],
 "metadata": {
  "kernelspec": {
   "display_name": "Python 3 (ipykernel)",
   "language": "python",
   "name": "python3"
  },
  "language_info": {
   "codemirror_mode": {
    "name": "ipython",
    "version": 3
   },
   "file_extension": ".py",
   "mimetype": "text/x-python",
   "name": "python",
   "nbconvert_exporter": "python",
   "pygments_lexer": "ipython3",
   "version": "3.9.12"
  }
 },
 "nbformat": 4,
 "nbformat_minor": 5
}
