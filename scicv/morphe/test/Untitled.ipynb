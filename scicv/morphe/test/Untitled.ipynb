{
 "cells": [
  {
   "cell_type": "code",
   "execution_count": 2,
   "id": "ec062bd8",
   "metadata": {},
   "outputs": [],
   "source": [
    "import numpy as np \n",
    "import cv2 "
   ]
  },
  {
   "cell_type": "code",
   "execution_count": 3,
   "id": "fd7bbcbb",
   "metadata": {},
   "outputs": [],
   "source": [
    "img = cv2.imread('../../data/avengers.jpg',0)"
   ]
  },
  {
   "cell_type": "code",
   "execution_count": 4,
   "id": "58c5d3fc",
   "metadata": {},
   "outputs": [
    {
     "data": {
      "text/plain": [
       "((1441, 2560), 2)"
      ]
     },
     "execution_count": 4,
     "metadata": {},
     "output_type": "execute_result"
    }
   ],
   "source": [
    "img.shape, img.ndim"
   ]
  },
  {
   "cell_type": "code",
   "execution_count": 1,
   "id": "31d68bf0",
   "metadata": {},
   "outputs": [
    {
     "name": "stdout",
     "output_type": "stream",
     "text": [
      "Input Image:\n",
      " [[0 0 1 1 0 0]\n",
      " [0 1 1 1 1 0]\n",
      " [1 1 1 1 1 1]\n",
      " [0 0 1 1 0 0]\n",
      " [0 0 1 1 0 0]]\n",
      "Dilated Result:\n",
      " [[2 2 2 2 0 0]\n",
      " [2 2 2 2 0 0]\n",
      " [2 2 2 2 0 0]\n",
      " [0 0 0 0 0 0]\n",
      " [0 0 0 0 0 0]]\n"
     ]
    }
   ],
   "source": [
    "import numpy as np\n",
    "\n",
    "def dilation(image, selem):\n",
    "    \"\"\"Perform dilation on a 2-D image using a given structuring element.\n",
    "    \n",
    "    # Define the shape of the structuring element\n",
    "    selem = np.array([[0, 1, 0],\n",
    "                  [1, 1, 1],\n",
    "                  [0, 1, 0]], dtype=np.uint8)\n",
    "    \"\"\"\n",
    "    result = np.zeros_like(image)\n",
    "    for i in range(image.shape[0] - selem.shape[0] + 1):\n",
    "        for j in range(image.shape[1] - selem.shape[1] + 1):\n",
    "            sub_image = image[i:i+selem.shape[0], j:j+selem.shape[1]]\n",
    "            result[i, j] = np.max(sub_image + selem)\n",
    "    return result\n",
    "\n",
    "# Load the input image\n",
    "image = np.array([[0, 0, 1, 1, 0, 0],\n",
    "                  [0, 1, 1, 1, 1, 0],\n",
    "                  [1, 1, 1, 1, 1, 1],\n",
    "                  [0, 0, 1, 1, 0, 0],\n",
    "                  [0, 0, 1, 1, 0, 0]], dtype=np.uint8)\n",
    "\n",
    "# Define the shape of the structuring element\n",
    "selem = np.array([[0, 1, 0],\n",
    "                  [1, 1, 1],\n",
    "                  [0, 1, 0]], dtype=np.uint8)\n",
    "\n",
    "# Apply the dilation operation\n",
    "result = dilation(image, selem)\n",
    "\n",
    "print(\"Input Image:\\n\", image)\n",
    "print(\"Dilated Result:\\n\", result)\n"
   ]
  },
  {
   "cell_type": "code",
   "execution_count": 6,
   "id": "f4f20acb",
   "metadata": {},
   "outputs": [],
   "source": [
    "dil = dilation(img, selem)"
   ]
  },
  {
   "cell_type": "code",
   "execution_count": 7,
   "id": "ee83fd60",
   "metadata": {},
   "outputs": [],
   "source": [
    "cv2.imshow('wn',dil)\n",
    "cv2.waitKey(0)\n",
    "cv2.destroyAllWindows()"
   ]
  },
  {
   "cell_type": "code",
   "execution_count": 17,
   "id": "062b0b87",
   "metadata": {},
   "outputs": [
    {
     "name": "stdout",
     "output_type": "stream",
     "text": [
      "Input Image:\n",
      " [[0 0 1 1 0 0]\n",
      " [0 1 1 1 1 0]\n",
      " [1 1 1 1 1 1]\n",
      " [0 0 1 1 0 0]\n",
      " [0 0 1 1 0 0]]\n",
      "Eroded Result:\n",
      " [[0 0 0 0 0 0]\n",
      " [0 0 0 0 0 0]\n",
      " [0 0 0 0 0 0]\n",
      " [0 0 0 0 0 0]\n",
      " [0 0 0 0 0 0]]\n"
     ]
    }
   ],
   "source": [
    "import numpy as np\n",
    "\n",
    "def erosion(image, selem):\n",
    "    \"\"\"Perform erosion on a 2-D image using a given structuring element.\n",
    "    # Define the shape of the structuring element\n",
    "    selem = np.array([[0, 1, 0],\n",
    "                  [1, 1, 1],\n",
    "                  [0, 1, 0]], dtype=np.uint8)\n",
    "\n",
    "    \n",
    "    \n",
    "    \"\"\"\n",
    "    result = np.zeros_like(image)\n",
    "    for i in range(image.shape[0] - selem.shape[0] + 1):\n",
    "        for j in range(image.shape[1] - selem.shape[1] + 1):\n",
    "            sub_image = image[i:i+selem.shape[0], j:j+selem.shape[1]]\n",
    "            result[i, j] = np.min(sub_image * selem)\n",
    "    return result\n",
    "\n",
    "# Load the input image\n",
    "image = np.array([[0, 0, 1, 1, 0, 0],\n",
    "                  [0, 1, 1, 1, 1, 0],\n",
    "                  [1, 1, 1, 1, 1, 1],\n",
    "                  [0, 0, 1, 1, 0, 0],\n",
    "                  [0, 0, 1, 1, 0, 0]], dtype=np.uint8)\n",
    "\n",
    "# Define the shape of the structuring element\n",
    "selem = np.array([[2, 2, 1],\n",
    "                  [3, 4, 1],\n",
    "                  [4, 3, 6]], dtype=np.uint8)\n",
    "\n",
    "# Apply the erosion operation\n",
    "result = erosion(image, selem)\n",
    "\n",
    "print(\"Input Image:\\n\", image)\n",
    "print(\"Eroded Result:\\n\", result)\n"
   ]
  },
  {
   "cell_type": "code",
   "execution_count": 18,
   "id": "c30c2430",
   "metadata": {},
   "outputs": [],
   "source": [
    "erode=erosion(img,selem)"
   ]
  },
  {
   "cell_type": "code",
   "execution_count": 20,
   "id": "04923dfc",
   "metadata": {},
   "outputs": [],
   "source": [
    "cv2.imshow('wn',erode)\n",
    "cv2.waitKey(0)\n",
    "cv2.destroyAllWindows()"
   ]
  },
  {
   "cell_type": "code",
   "execution_count": 19,
   "id": "7dba64b3",
   "metadata": {},
   "outputs": [
    {
     "data": {
      "text/plain": [
       "array([[44, 63, 50, ..., 47,  0,  0],\n",
       "       [21, 17, 27, ..., 46,  0,  0],\n",
       "       [17, 14, 22, ..., 44,  0,  0],\n",
       "       ...,\n",
       "       [ 0,  0,  0, ...,  0,  0,  0],\n",
       "       [ 0,  0,  0, ...,  0,  0,  0],\n",
       "       [ 0,  0,  0, ...,  0,  0,  0]], dtype=uint8)"
      ]
     },
     "execution_count": 19,
     "metadata": {},
     "output_type": "execute_result"
    }
   ],
   "source": [
    "erode"
   ]
  },
  {
   "cell_type": "code",
   "execution_count": 21,
   "id": "b7a0745b",
   "metadata": {},
   "outputs": [
    {
     "name": "stdout",
     "output_type": "stream",
     "text": [
      "Input Image:\n",
      " [[0 0 1 1 0 0]\n",
      " [0 1 1 1 1 0]\n",
      " [1 1 1 1 1 1]\n",
      " [0 0 1 1 0 0]\n",
      " [0 0 1 1 0 0]]\n",
      "Black-hat Result:\n",
      " [[255 255   0   0   0   0]\n",
      " [255   0   0   0   1   0]\n",
      " [  0   0   0   0   1   1]\n",
      " [  0   0   1   1   0   0]\n",
      " [  0   0   1   1   0   0]]\n"
     ]
    }
   ],
   "source": [
    "import numpy as np\n",
    "\n",
    "def black_hat(image, selem):\n",
    "    \"\"\"Perform black-hat transform on a 2-D image using a given structuring element.\"\"\"\n",
    "    erosion_result = erosion(image, selem)\n",
    "    dilation_result = dilation(erosion_result, selem)\n",
    "    result = image - dilation_result\n",
    "    return result\n",
    "\n",
    "def erosion(image, selem):\n",
    "    \"\"\"Perform erosion on a 2-D image using a given structuring element.\"\"\"\n",
    "    result = np.zeros_like(image)\n",
    "    for i in range(image.shape[0] - selem.shape[0] + 1):\n",
    "        for j in range(image.shape[1] - selem.shape[1] + 1):\n",
    "            sub_image = image[i:i+selem.shape[0], j:j+selem.shape[1]]\n",
    "            result[i, j] = np.min(sub_image * selem)\n",
    "    return result\n",
    "\n",
    "def dilation(image, selem):\n",
    "    \"\"\"Perform dilation on a 2-D image using a given structuring element.\"\"\"\n",
    "    result = np.zeros_like(image)\n",
    "    for i in range(image.shape[0] - selem.shape[0] + 1):\n",
    "        for j in range(image.shape[1] - selem.shape[1] + 1):\n",
    "            sub_image = image[i:i+selem.shape[0], j:j+selem.shape[1]]\n",
    "            result[i, j] = np.max(sub_image + selem)\n",
    "    return result\n",
    "\n",
    "# Load the input image\n",
    "image = np.array([[0, 0, 1, 1, 0, 0],\n",
    "                  [0, 1, 1, 1, 1, 0],\n",
    "                  [1, 1, 1, 1, 1, 1],\n",
    "                  [0, 0, 1, 1, 0, 0],\n",
    "                  [0, 0, 1, 1, 0, 0]], dtype=np.uint8)\n",
    "\n",
    "# Define the shape of the structuring element\n",
    "selem = np.array([[0, 1, 0],\n",
    "                  [1, 1, 1],\n",
    "                  [0, 1, 0]], dtype=np.uint8)\n",
    "\n",
    "# Apply the black-hat transform\n",
    "result = black_hat(image, selem)\n",
    "\n",
    "print(\"Input Image:\\n\", image)\n",
    "print(\"Black-hat Result:\\n\", result)\n"
   ]
  },
  {
   "cell_type": "code",
   "execution_count": 22,
   "id": "96c26a64",
   "metadata": {},
   "outputs": [
    {
     "name": "stdout",
     "output_type": "stream",
     "text": [
      "Input Image:\n",
      " [[0 0 1 1 0 0]\n",
      " [0 1 1 1 1 0]\n",
      " [1 1 1 1 1 1]\n",
      " [0 0 1 1 0 0]\n",
      " [0 0 1 1 0 0]]\n",
      "Black-hat Result:\n",
      " [[255 255   0   0   0   0]\n",
      " [255   0   0   0   1   0]\n",
      " [  0   0   0   0   1   1]\n",
      " [  0   0   1   1   0   0]\n",
      " [  0   0   1   1   0   0]]\n"
     ]
    }
   ],
   "source": [
    "import numpy as np\n",
    "\n",
    "def black_hat(image, selem):\n",
    "    \"\"\"Perform black-hat transform on a 2-D image using a given structuring element.\"\"\"\n",
    "    erosion_result = erosion(image, selem)\n",
    "    dilation_result = dilation(erosion_result, selem)\n",
    "    result = image - dilation_result\n",
    "    return result\n",
    "\n",
    "def erosion(image, selem):\n",
    "    \"\"\"Perform erosion on a 2-D image using a given structuring element.\"\"\"\n",
    "    result = np.zeros_like(image)\n",
    "    for i in range(image.shape[0] - selem.shape[0] + 1):\n",
    "        for j in range(image.shape[1] - selem.shape[1] + 1):\n",
    "            sub_image = image[i:i+selem.shape[0], j:j+selem.shape[1]]\n",
    "            result[i, j] = np.min(sub_image * selem)\n",
    "    return result\n",
    "\n",
    "def dilation(image, selem):\n",
    "    \"\"\"Perform dilation on a 2-D image using a given structuring element.\"\"\"\n",
    "    result = np.zeros_like(image)\n",
    "    for i in range(image.shape[0] - selem.shape[0] + 1):\n",
    "        for j in range(image.shape[1] - selem.shape[1] + 1):\n",
    "            sub_image = image[i:i+selem.shape[0], j:j+selem.shape[1]]\n",
    "            result[i, j] = np.max(sub_image + selem)\n",
    "    return result\n",
    "\n",
    "# Load the input image\n",
    "image = np.array([[0, 0, 1, 1, 0, 0],\n",
    "                  [0, 1, 1, 1, 1, 0],\n",
    "                  [1, 1, 1, 1, 1, 1],\n",
    "                  [0, 0, 1, 1, 0, 0],\n",
    "                  [0, 0, 1, 1, 0, 0]], dtype=np.uint8)\n",
    "\n",
    "# Define the shape of the structuring element\n",
    "selem = np.array([[0, 1, 0],\n",
    "                  [1, 1, 1],\n",
    "                  [0, 1, 0]], dtype=np.uint8)\n",
    "\n",
    "# Apply the black-hat transform\n",
    "result = black_hat(image, selem)\n",
    "\n",
    "print(\"Input Image:\\n\", image)\n",
    "print(\"Black-hat Result:\\n\", result)\n"
   ]
  },
  {
   "cell_type": "code",
   "execution_count": null,
   "id": "b55bf673",
   "metadata": {},
   "outputs": [],
   "source": [
    "import numpy as np\n",
    "\n",
    "def top_hat(image, selem):\n",
    "    \"\"\"Perform top-hat transform on a 2-D image using a given structuring element.\"\"\"\n",
    "    dilation_result = dilation(image, selem)\n",
    "    erosion_result = erosion(dilation_result, selem)\n",
    "    result = dilation_result - erosion_result\n",
    "    return result\n",
    "\n",
    "def erosion(image, selem):\n",
    "    \"\"\"Perform erosion on a 2-D image using a given structuring element.\"\"\"\n",
    "    result = np.zeros_like(image)\n",
    "    for i in range(image.shape[0] - selem.shape[0] + 1):\n",
    "        for j in range(image.shape[1] - selem.shape[1] + 1):\n",
    "            sub_image = image[i:i+selem.shape[0], j:j+selem.shape[1]]\n",
    "            result[i, j] = np.min(sub_image * selem)\n",
    "    return result\n",
    "\n",
    "def dilation(image, selem):\n",
    "    \"\"\"Perform dilation on a 2-D image using a given structuring element.\"\"\"\n",
    "    result = np.zeros_like(image)\n",
    "    for i in range(image.shape[0] - selem.shape[0] + 1):\n",
    "        for j in range(image.shape[1] - selem.shape[1] + 1):\n",
    "            sub_image = image[i:i+selem.shape[0], j:j+selem.shape[1]]\n",
    "            result[i, j] = np.max(sub_image + selem)\n",
    "    return result\n",
    "\n",
    "# Load the input image\n",
    "image = np.array([[0, 0, 1, 1, 0, 0],\n",
    "                  [0, 1, 1, 1, 1, 0],\n",
    "                  [1, 1, 1, 1, 1, 1],\n",
    "                  [0, 0, 1, 1, 0, 0],\n",
    "                  [0, 0, 1, 1, 0, 0]], dtype=np.uint8)\n",
    "\n",
    "# Define the shape of the structuring element\n",
    "selem = np.array([[0, 1, 0],\n",
    "                  [1, 1, 1],\n",
    "                  [0, 1, 0]], dtype=np.uint8)\n",
    "\n",
    "# Apply the top-hat transform\n",
    "result = top_hat(image, selem)\n",
    "\n",
    "print(\"Input Image:\\n\", image)\n",
    "print(\"Top-hat Result:\\n\", result)\n"
   ]
  }
 ],
 "metadata": {
  "kernelspec": {
   "display_name": "Python 3 (ipykernel)",
   "language": "python",
   "name": "python3"
  },
  "language_info": {
   "codemirror_mode": {
    "name": "ipython",
    "version": 3
   },
   "file_extension": ".py",
   "mimetype": "text/x-python",
   "name": "python",
   "nbconvert_exporter": "python",
   "pygments_lexer": "ipython3",
   "version": "3.9.12"
  }
 },
 "nbformat": 4,
 "nbformat_minor": 5
}
