{
 "cells": [
  {
   "cell_type": "markdown",
   "id": "7dffa332",
   "metadata": {},
   "source": [
    "# Types of Image filter "
   ]
  },
  {
   "cell_type": "markdown",
   "id": "2264b6ee",
   "metadata": {},
   "source": [
    "**1.) Smoothing filters:** These filters are used to reduce noise and smooth the image example include Gaussian blur,mean filter, and median filter \n",
    "\n",
    "**2.) Sharpening filters:** These filters are used to enchance the edges and details in an image. example include Laplacian filter and sobel filter \n",
    "\n",
    "**3.) High-Pass filters :** These filters are used to enhance the high-frequency content of an image. example include laplacian filter and sobel filter\n",
    "\n",
    "**4.) Low-Pass filters :** These filters are used to suppress the high-frequency content of an image and smooth it examples\n",
    "include Gaussian filter, mean filter, and median filter \n",
    "\n",
    "**5.) Nom-linear-filters:** These filters are used to perform operations that are not linear such as median filter, which is a \n",
    "non-linear filter that replaces that values of a pixel with the median value of its neighborhood\n",
    "\n",
    "**6.) Blur filters:** These filters are used to soften or 'blur' an image examples include Gaussian blur and box blux \n",
    "\n",
    "**7.) Edge detection filters:** These filters are used to enhance the edges in an image making it easier to identify object boundaries example includle sobel,Canny, and Laplacian filters\n",
    "\n",
    "\n",
    "**8.) Color adjustment filters:** These filter are used to adjust the color balance of an image. examples include brightness,contrast,hue, and saturation filters \n",
    "\n",
    "**9.) Noise reduction filters:** These filters are used to reduce noise and speckles in an image. example include median filter and Gaussian filter \n",
    "\n",
    "**10.) Special effects filter:** These filters are used to create special effects in an image example include oil painting,cartoon , and sketch filter "
   ]
  },
  {
   "cell_type": "code",
   "execution_count": null,
   "id": "b8493924",
   "metadata": {},
   "outputs": [],
   "source": []
  }
 ],
 "metadata": {
  "kernelspec": {
   "display_name": "Python 3 (ipykernel)",
   "language": "python",
   "name": "python3"
  },
  "language_info": {
   "codemirror_mode": {
    "name": "ipython",
    "version": 3
   },
   "file_extension": ".py",
   "mimetype": "text/x-python",
   "name": "python",
   "nbconvert_exporter": "python",
   "pygments_lexer": "ipython3",
   "version": "3.9.12"
  }
 },
 "nbformat": 4,
 "nbformat_minor": 5
}
