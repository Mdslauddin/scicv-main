{
 "cells": [
  {
   "cell_type": "code",
   "execution_count": 3,
   "id": "2bbcb429",
   "metadata": {},
   "outputs": [],
   "source": [
    "path2 = '../../data/avengers.jpg'"
   ]
  },
  {
   "cell_type": "code",
   "execution_count": 6,
   "id": "54f256df",
   "metadata": {},
   "outputs": [
    {
     "name": "stdout",
     "output_type": "stream",
     "text": [
      "Standard deviation: 48.978280537378616\n"
     ]
    }
   ],
   "source": [
    "import numpy as np\n",
    "import cv2\n",
    "\n",
    "# path \n",
    "path = '../../data/ouput.png'\n",
    "# Load the image using OpenCV\n",
    "img = cv2.imread(path)\n",
    "\n",
    "# Convert the image to grayscale (if necessary)\n",
    "gray = cv2.cvtColor(img, cv2.COLOR_BGR2GRAY)\n",
    "\n",
    "# Calculate the standard deviation of the pixel values\n",
    "std_dev = np.std(gray)\n",
    "\n",
    "# Print the standard deviation\n",
    "print(\"Standard deviation:\", std_dev)\n"
   ]
  },
  {
   "cell_type": "code",
   "execution_count": null,
   "id": "76501a78",
   "metadata": {},
   "outputs": [],
   "source": [
    "cv2.imshow('wn',std_dev)\n",
    "cv2.waitKey(0)\n",
    "cv2.destroyAllWindows()"
   ]
  },
  {
   "cell_type": "code",
   "execution_count": null,
   "id": "e37c838a",
   "metadata": {},
   "outputs": [],
   "source": [
    "import numpy as np\n",
    "import cv2\n",
    "\n",
    "# Load the image using OpenCV\n",
    "img = cv2.imread(path2)\n",
    "\n",
    "# Convert the image to grayscale (if necessary)\n",
    "gray = cv2.cvtColor(img, cv2.COLOR_BGR2GRAY)\n",
    "\n",
    "# Calculate the mean and standard deviation of the pixel values\n",
    "mean, std_dev = cv2.meanStdDev(gray)\n",
    "\n",
    "# Apply the standard deviation filter to the image\n",
    "img_filtered = np.clip(gray - mean + std_dev, 0, 255).astype(np.uint8)\n",
    "\n",
    "# Display the original and filtered images\n",
    "cv2.imshow(\"Original\", gray)\n",
    "cv2.imshow(\"Filtered\", img_filtered)\n",
    "cv2.waitKey(0)\n",
    "cv2.destroyAllWindows()\n"
   ]
  },
  {
   "cell_type": "code",
   "execution_count": null,
   "id": "3c3906a2",
   "metadata": {},
   "outputs": [],
   "source": [
    "gray.ndim"
   ]
  },
  {
   "cell_type": "code",
   "execution_count": null,
   "id": "4ce709c4",
   "metadata": {},
   "outputs": [],
   "source": [
    "mean,std_dev"
   ]
  },
  {
   "cell_type": "code",
   "execution_count": null,
   "id": "47901909",
   "metadata": {},
   "outputs": [],
   "source": [
    "img_filtered = np.clip(gray - mean + std_dev, 0, 255).astype(np.uint8)"
   ]
  },
  {
   "cell_type": "code",
   "execution_count": null,
   "id": "063c0eba",
   "metadata": {},
   "outputs": [],
   "source": [
    "img_filtered"
   ]
  },
  {
   "cell_type": "code",
   "execution_count": null,
   "id": "09978649",
   "metadata": {},
   "outputs": [],
   "source": [
    "def meanStdDev(img):\n",
    "    \"\"\"\n",
    "    # Calculate the mean and standard deviation of the pixel values\n",
    "    mean, std_dev = meanStdDev(gray)\n",
    "    \n",
    "    \"\"\"\n",
    "    # Calculate the mean and standard deviation of the pixel values\n",
    "    mean = np.mean(img)\n",
    "    std_dev = np.std(img)\n",
    "    # Apply the standard deviation filter to the image\n",
    "    img_filtered = np.clip(gray - mean + std_dev, 0, 255).astype(np.uint8)\n",
    "    return img_filtered\n",
    "    \n",
    "    "
   ]
  },
  {
   "cell_type": "code",
   "execution_count": null,
   "id": "85823c29",
   "metadata": {},
   "outputs": [],
   "source": [
    "gray- np.mean(gray)+np.std(gray)"
   ]
  },
  {
   "cell_type": "code",
   "execution_count": null,
   "id": "0313c55c",
   "metadata": {},
   "outputs": [],
   "source": [
    "z =np.clip(gray+std_dev,0,255).astype(np.uint8)\n",
    "z"
   ]
  },
  {
   "cell_type": "code",
   "execution_count": null,
   "id": "d2932329",
   "metadata": {},
   "outputs": [],
   "source": [
    "cv2.imshow('wn',z)\n",
    "cv2.imshow('or',gray)\n",
    "cv2.waitKey(0)\n",
    "cv2.destroyAllWindows()"
   ]
  },
  {
   "cell_type": "code",
   "execution_count": null,
   "id": "8c382a3f",
   "metadata": {},
   "outputs": [],
   "source": [
    "meanStdDev(gray)"
   ]
  },
  {
   "cell_type": "code",
   "execution_count": null,
   "id": "1f4e46fa",
   "metadata": {},
   "outputs": [],
   "source": [
    "import numpy as np\n",
    "\n",
    "# Create a sample array\n",
    "array = np.array([[1, 2, 3], [4, 5, 6]])\n",
    "\n",
    "# Define the padding widths\n",
    "pad_width = [(1, 1), (1, 1)]\n",
    "\n",
    "# Pad the array using np.pad\n",
    "padded_array = np.pad(array, pad_width, mode='constant', constant_values=0)\n",
    "\n",
    "# Print the original and padded arrays\n",
    "print(\"Original array:\")\n",
    "print(array)\n",
    "print(\"\\nPadded array:\")\n",
    "print(padded_array)\n"
   ]
  },
  {
   "cell_type": "code",
   "execution_count": null,
   "id": "c3a73d33",
   "metadata": {},
   "outputs": [],
   "source": []
  },
  {
   "cell_type": "code",
   "execution_count": null,
   "id": "6c29b2f2",
   "metadata": {},
   "outputs": [],
   "source": [
    "def padarray(img):\n",
    "    # Define the padding widths\n",
    "    pad_width = [(1, 1), (1, 1)]\n",
    "    # Pad the array using np.pad\n",
    "    padded_array = np.pad(img, pad_width, mode='constant', constant_values=0)\n",
    "    return padded_array"
   ]
  },
  {
   "cell_type": "code",
   "execution_count": null,
   "id": "b1982ed5",
   "metadata": {},
   "outputs": [],
   "source": [
    "padarray(gray)"
   ]
  },
  {
   "cell_type": "code",
   "execution_count": null,
   "id": "2052144c",
   "metadata": {},
   "outputs": [],
   "source": [
    "gray"
   ]
  },
  {
   "cell_type": "code",
   "execution_count": null,
   "id": "89da7fc4",
   "metadata": {},
   "outputs": [],
   "source": []
  },
  {
   "cell_type": "code",
   "execution_count": null,
   "id": "782b0409",
   "metadata": {},
   "outputs": [],
   "source": []
  },
  {
   "cell_type": "code",
   "execution_count": null,
   "id": "d1f17ccf",
   "metadata": {},
   "outputs": [],
   "source": []
  },
  {
   "cell_type": "code",
   "execution_count": null,
   "id": "281511a6",
   "metadata": {},
   "outputs": [],
   "source": []
  },
  {
   "cell_type": "code",
   "execution_count": null,
   "id": "22c2b4f2",
   "metadata": {},
   "outputs": [],
   "source": []
  },
  {
   "cell_type": "code",
   "execution_count": null,
   "id": "da05431b",
   "metadata": {},
   "outputs": [],
   "source": [
    "gray"
   ]
  },
  {
   "cell_type": "code",
   "execution_count": null,
   "id": "c67bc2de",
   "metadata": {},
   "outputs": [],
   "source": [
    "z = padarray(gray,[(1,1),(1,1)])"
   ]
  },
  {
   "cell_type": "code",
   "execution_count": null,
   "id": "dad71569",
   "metadata": {},
   "outputs": [],
   "source": [
    "cv2.imshow('wn',z)\n",
    "cv2.imshow('orig',gray)\n",
    "cv2.waitKey(0)\n",
    "cv2.destroyAllWindows()"
   ]
  },
  {
   "cell_type": "code",
   "execution_count": null,
   "id": "f17ab654",
   "metadata": {},
   "outputs": [],
   "source": []
  },
  {
   "cell_type": "code",
   "execution_count": null,
   "id": "936f4cb1",
   "metadata": {},
   "outputs": [],
   "source": [
    "padded_array = np.pad(gray, pad_width, mode='constant', constant_values=0)"
   ]
  },
  {
   "cell_type": "code",
   "execution_count": null,
   "id": "47686c60",
   "metadata": {},
   "outputs": [],
   "source": [
    "cv2.imshow('wn',padded_array)\n",
    "cv2.imshow('orig',gray)\n",
    "cv2.waitKey(0)\n",
    "cv2.destroyAllWindows()"
   ]
  },
  {
   "cell_type": "code",
   "execution_count": null,
   "id": "f2c350cc",
   "metadata": {},
   "outputs": [],
   "source": [
    "padded_array,gray"
   ]
  },
  {
   "cell_type": "code",
   "execution_count": null,
   "id": "e0a0c1c3",
   "metadata": {},
   "outputs": [],
   "source": [
    "import numpy as np\n",
    "from skimage import data, feature\n",
    "import matplotlib.pyplot as plt\n",
    "\n",
    "# Load the image using the skimage.data module\n",
    "image = data.coins()\n",
    "\n",
    "# Compute the Harris corner response function\n",
    "response = feature.corner_harris(image, method='k', k=0.04)\n",
    "\n",
    "# Compute the maximum Hessian norm over all pixels\n",
    "max_hessian_norm = np.max(response)\n",
    "\n",
    "# Print the maximum Hessian norm\n",
    "print(\"Maximum Hessian norm:\", max_hessian_norm)\n"
   ]
  },
  {
   "cell_type": "code",
   "execution_count": null,
   "id": "6f89e26d",
   "metadata": {},
   "outputs": [],
   "source": [
    "response\n"
   ]
  },
  {
   "cell_type": "code",
   "execution_count": null,
   "id": "14fab4e1",
   "metadata": {},
   "outputs": [],
   "source": [
    "import cv2\n",
    "import numpy as np\n",
    "\n",
    "# Load the image using OpenCV\n",
    "img = cv2.imread(path2, 0)\n",
    "\n",
    "# Define the size of the local region\n",
    "local_size = (3, 3)\n",
    "\n",
    "# Compute the mean and standard deviation of the image within each local region\n",
    "mean, stddev = cv2.meanStdDev(img, mask=None, mean=None, stddev=None, squareRoot=False)\n",
    "\n",
    "# Normalize the image based on the local mean and standard deviation\n",
    "normalized_img = (img - mean) / (stddev + 1e-5)\n"
   ]
  },
  {
   "cell_type": "code",
   "execution_count": null,
   "id": "6f4b5738",
   "metadata": {},
   "outputs": [],
   "source": []
  },
  {
   "cell_type": "code",
   "execution_count": null,
   "id": "e1105629",
   "metadata": {},
   "outputs": [],
   "source": []
  },
  {
   "cell_type": "code",
   "execution_count": null,
   "id": "b98270e5",
   "metadata": {},
   "outputs": [],
   "source": []
  },
  {
   "cell_type": "code",
   "execution_count": null,
   "id": "2156d81a",
   "metadata": {
    "scrolled": true
   },
   "outputs": [],
   "source": [
    "import numpy as np\n",
    "import scipy.ndimage as ndimage\n",
    "\n",
    "# Load the image\n",
    "img =gray\n",
    "\n",
    "# Define the size of the filter kernel\n",
    "kernel_size = np.ones((5,5))\n",
    "\n",
    "# Compute the entropy for each pixel in the image\n",
    "entropy = np.zeros_like(img, dtype=np.float)\n",
    "for i in range(img.ndim):\n",
    "    filtered = ndimage.convolve(img, np.ones(kernel_size), mode='reflect')\n",
    "    entropy += -filtered * np.log2(filtered)\n",
    "\n",
    "# Normalize the entropy values to the range [0, 1]\n",
    "entropy = entropy / entropy.max()\n"
   ]
  },
  {
   "cell_type": "code",
   "execution_count": null,
   "id": "959a3c28",
   "metadata": {},
   "outputs": [],
   "source": [
    "import numpy as np\n",
    "from scipy import fftpack\n",
    "\n",
    "# Load the degraded image\n",
    "img =gray\n",
    "\n",
    "# Define the filter kernel\n",
    "kernel = np.ones((5,5))\n",
    "\n",
    "# Compute the Fourier transforms of the image and the kernel\n",
    "img_ft = fftpack.fftn(img)\n",
    "kernel_ft = fftpack.fftn(kernel)\n",
    "\n",
    "# Compute the power spectra of the image and the kernel\n",
    "img_ps = np.abs(img_ft)**2\n",
    "kernel_ps = np.abs(kernel_ft)**2\n",
    "\n",
    "# Compute the Wiener filter\n",
    "wiener_ft = img_ft * np.conj(kernel_ft) / (kernel_ps + np.finfo(float).eps)\n",
    "\n",
    "# Inverse Fourier transform the result to obtain the filtered image\n",
    "wiener = fftpack.ifftn(wiener_ft).real\n"
   ]
  },
  {
   "cell_type": "code",
   "execution_count": null,
   "id": "777e9396",
   "metadata": {},
   "outputs": [],
   "source": [
    "path2"
   ]
  },
  {
   "cell_type": "code",
   "execution_count": null,
   "id": "a4e55fff",
   "metadata": {},
   "outputs": [],
   "source": [
    "gray"
   ]
  },
  {
   "cell_type": "code",
   "execution_count": 4,
   "id": "939ba6df",
   "metadata": {},
   "outputs": [
    {
     "ename": "FileNotFoundError",
     "evalue": "[Errno 2] No such file or directory: '../../data/avengers.jpg.jpg'",
     "output_type": "error",
     "traceback": [
      "\u001b[1;31m---------------------------------------------------------------------------\u001b[0m",
      "\u001b[1;31mFileNotFoundError\u001b[0m                         Traceback (most recent call last)",
      "Input \u001b[1;32mIn [4]\u001b[0m, in \u001b[0;36m<cell line: 21>\u001b[1;34m()\u001b[0m\n\u001b[0;32m     21\u001b[0m \u001b[38;5;28;01mif\u001b[39;00m \u001b[38;5;18m__name__\u001b[39m \u001b[38;5;241m==\u001b[39m \u001b[38;5;124m\"\u001b[39m\u001b[38;5;124m__main__\u001b[39m\u001b[38;5;124m\"\u001b[39m:\n\u001b[0;32m     22\u001b[0m     imgName \u001b[38;5;241m=\u001b[39m path2\n\u001b[1;32m---> 23\u001b[0m     \u001b[43mimgRoundFunc\u001b[49m\u001b[43m(\u001b[49m\u001b[43mimgName\u001b[49m\u001b[43m)\u001b[49m\n",
      "Input \u001b[1;32mIn [4]\u001b[0m, in \u001b[0;36mimgRoundFunc\u001b[1;34m(imgName)\u001b[0m\n\u001b[0;32m      6\u001b[0m \u001b[38;5;28;01mdef\u001b[39;00m \u001b[38;5;21mimgRoundFunc\u001b[39m(imgName):\n\u001b[1;32m----> 7\u001b[0m     img \u001b[38;5;241m=\u001b[39m \u001b[43mImage\u001b[49m\u001b[38;5;241;43m.\u001b[39;49m\u001b[43mopen\u001b[49m\u001b[43m(\u001b[49m\u001b[38;5;124;43mf\u001b[39;49m\u001b[38;5;124;43m\"\u001b[39;49m\u001b[38;5;132;43;01m{\u001b[39;49;00m\u001b[43mimgName\u001b[49m\u001b[38;5;132;43;01m}\u001b[39;49;00m\u001b[38;5;124;43m.jpg\u001b[39;49m\u001b[38;5;124;43m\"\u001b[39;49m\u001b[43m)\u001b[49m\u001b[38;5;241m.\u001b[39mconvert(\u001b[38;5;124m\"\u001b[39m\u001b[38;5;124mRGB\u001b[39m\u001b[38;5;124m\"\u001b[39m) \u001b[38;5;66;03m#convert to RGB\u001b[39;00m\n\u001b[0;32m      8\u001b[0m     arrImg \u001b[38;5;241m=\u001b[39m np\u001b[38;5;241m.\u001b[39marray(img) \u001b[38;5;66;03m#convert to numpy array\u001b[39;00m\n\u001b[0;32m     10\u001b[0m     alph \u001b[38;5;241m=\u001b[39m Image\u001b[38;5;241m.\u001b[39mnew(\u001b[38;5;124m'\u001b[39m\u001b[38;5;124mL\u001b[39m\u001b[38;5;124m'\u001b[39m, img\u001b[38;5;241m.\u001b[39msize, \u001b[38;5;241m0\u001b[39m) \u001b[38;5;66;03m#create a new image with alpha channel\u001b[39;00m\n",
      "File \u001b[1;32mD:\\Anaconda\\lib\\site-packages\\PIL\\Image.py:2953\u001b[0m, in \u001b[0;36mopen\u001b[1;34m(fp, mode, formats)\u001b[0m\n\u001b[0;32m   2950\u001b[0m     filename \u001b[38;5;241m=\u001b[39m fp\n\u001b[0;32m   2952\u001b[0m \u001b[38;5;28;01mif\u001b[39;00m filename:\n\u001b[1;32m-> 2953\u001b[0m     fp \u001b[38;5;241m=\u001b[39m \u001b[43mbuiltins\u001b[49m\u001b[38;5;241;43m.\u001b[39;49m\u001b[43mopen\u001b[49m\u001b[43m(\u001b[49m\u001b[43mfilename\u001b[49m\u001b[43m,\u001b[49m\u001b[43m \u001b[49m\u001b[38;5;124;43m\"\u001b[39;49m\u001b[38;5;124;43mrb\u001b[39;49m\u001b[38;5;124;43m\"\u001b[39;49m\u001b[43m)\u001b[49m\n\u001b[0;32m   2954\u001b[0m     exclusive_fp \u001b[38;5;241m=\u001b[39m \u001b[38;5;28;01mTrue\u001b[39;00m\n\u001b[0;32m   2956\u001b[0m \u001b[38;5;28;01mtry\u001b[39;00m:\n",
      "\u001b[1;31mFileNotFoundError\u001b[0m: [Errno 2] No such file or directory: '../../data/avengers.jpg.jpg'"
     ]
    }
   ],
   "source": [
    "#Import libraries\n",
    "import numpy as np\n",
    "from PIL import Image, ImageDraw\n",
    "\n",
    "#create the rounded image\n",
    "def imgRoundFunc(imgName):\n",
    "    img = Image.open(f\"{imgName}.jpg\").convert(\"RGB\") #convert to RGB\n",
    "    arrImg = np.array(img) #convert to numpy array\n",
    "\n",
    "    alph = Image.new('L', img.size, 0) #create a new image with alpha channel\n",
    "    draw = ImageDraw.Draw(alph) #create a draw object\n",
    "    draw.pieslice([0, 0, img.size[0], img.size[1]], 0, 360, fill = 255) #create a circle\n",
    "\n",
    "    arAlpha = np.array(alph) #conver to numpy array\n",
    "\n",
    "    arrImg = np.dstack((arrImg, arAlpha)) #add alpha channel to the image\n",
    "\n",
    "    Image.fromarray(arrImg).save('roundImgOutput.png') #save the resultant image\n",
    "\n",
    "#driver\n",
    "if __name__ == \"__main__\":\n",
    "    imgName = path2\n",
    "    imgRoundFunc(imgName)"
   ]
  },
  {
   "cell_type": "code",
   "execution_count": 5,
   "id": "6295dea8",
   "metadata": {},
   "outputs": [
    {
     "data": {
      "text/plain": [
       "'../../data/avengers.jpg'"
      ]
     },
     "execution_count": 5,
     "metadata": {},
     "output_type": "execute_result"
    }
   ],
   "source": [
    "path2"
   ]
  },
  {
   "cell_type": "code",
   "execution_count": null,
   "id": "5395a553",
   "metadata": {},
   "outputs": [],
   "source": []
  },
  {
   "cell_type": "code",
   "execution_count": 24,
   "id": "f17e34a8",
   "metadata": {},
   "outputs": [],
   "source": [
    "import numpy as np\n",
    "from PIL import Image, ImageDraw\n",
    "def circle(img):\n",
    "    img=Image.open(img).convert(\"RGB\")\n",
    "    npImage=np.array(img)\n",
    "    h,w=img.size\n",
    "    # Create same size alpha layer with circle\n",
    "    alpha = Image.new('L', img.size,0)\n",
    "    draw = ImageDraw.Draw(alpha)\n",
    "    draw.pieslice([0,0,h,w],0,360,fill=255)\n",
    "\n",
    "    # Convert alpha Image to numpy array\n",
    "    npAlpha=np.array(alpha)\n",
    "    \n",
    "    # Add alpha layer to RGB\n",
    "    npImage=np.dstack((npImage,npAlpha))\n",
    "    return npImage"
   ]
  },
  {
   "cell_type": "code",
   "execution_count": 26,
   "id": "905cb557",
   "metadata": {},
   "outputs": [],
   "source": [
    "z = circle(path2)"
   ]
  },
  {
   "cell_type": "code",
   "execution_count": 27,
   "id": "f7957be3",
   "metadata": {},
   "outputs": [],
   "source": [
    "cv2.imshow('wn',z)\n",
    "cv2.waitKey(0)\n",
    "cv2.destroyAllWindows()"
   ]
  },
  {
   "cell_type": "code",
   "execution_count": 8,
   "id": "c087943b",
   "metadata": {},
   "outputs": [
    {
     "ename": "TypeError",
     "evalue": "cannot unpack non-iterable int object",
     "output_type": "error",
     "traceback": [
      "\u001b[1;31m---------------------------------------------------------------------------\u001b[0m",
      "\u001b[1;31mTypeError\u001b[0m                                 Traceback (most recent call last)",
      "Input \u001b[1;32mIn [8]\u001b[0m, in \u001b[0;36m<cell line: 1>\u001b[1;34m()\u001b[0m\n\u001b[1;32m----> 1\u001b[0m \u001b[43mcircle\u001b[49m\u001b[43m(\u001b[49m\u001b[43mgray\u001b[49m\u001b[43m)\u001b[49m\n",
      "Input \u001b[1;32mIn [7]\u001b[0m, in \u001b[0;36mcircle\u001b[1;34m(img)\u001b[0m\n\u001b[0;32m      1\u001b[0m \u001b[38;5;28;01mdef\u001b[39;00m \u001b[38;5;21mcircle\u001b[39m(img):\n\u001b[1;32m----> 2\u001b[0m     h,w\u001b[38;5;241m=\u001b[39mimg\u001b[38;5;241m.\u001b[39msize\n\u001b[0;32m      3\u001b[0m     \u001b[38;5;28;01mreturn\u001b[39;00m h,w\n",
      "\u001b[1;31mTypeError\u001b[0m: cannot unpack non-iterable int object"
     ]
    }
   ],
   "source": [
    "circle(gray)"
   ]
  },
  {
   "cell_type": "code",
   "execution_count": 9,
   "id": "9259e5aa",
   "metadata": {},
   "outputs": [
    {
     "data": {
      "text/plain": [
       "392000"
      ]
     },
     "execution_count": 9,
     "metadata": {},
     "output_type": "execute_result"
    }
   ],
   "source": [
    "gray.size"
   ]
  },
  {
   "cell_type": "code",
   "execution_count": 10,
   "id": "9474e8a2",
   "metadata": {},
   "outputs": [],
   "source": [
    "img=Image.open(path2).convert(\"RGB\")\n",
    "npImage=np.array(img)"
   ]
  },
  {
   "cell_type": "code",
   "execution_count": 18,
   "id": "fc245b73",
   "metadata": {},
   "outputs": [
    {
     "data": {
      "text/plain": [
       "PIL.Image.Image"
      ]
     },
     "execution_count": 18,
     "metadata": {},
     "output_type": "execute_result"
    }
   ],
   "source": [
    "type(img)"
   ]
  },
  {
   "cell_type": "code",
   "execution_count": 12,
   "id": "70e681eb",
   "metadata": {},
   "outputs": [],
   "source": [
    "h,w=img.size"
   ]
  },
  {
   "cell_type": "code",
   "execution_count": 14,
   "id": "a305251d",
   "metadata": {},
   "outputs": [
    {
     "data": {
      "text/plain": [
       "2560"
      ]
     },
     "execution_count": 14,
     "metadata": {},
     "output_type": "execute_result"
    }
   ],
   "source": [
    "h"
   ]
  },
  {
   "cell_type": "code",
   "execution_count": 15,
   "id": "57c3b8e2",
   "metadata": {},
   "outputs": [
    {
     "data": {
      "text/plain": [
       "(2560, 1441)"
      ]
     },
     "execution_count": 15,
     "metadata": {},
     "output_type": "execute_result"
    }
   ],
   "source": [
    "img.size"
   ]
  },
  {
   "cell_type": "code",
   "execution_count": 17,
   "id": "e07041aa",
   "metadata": {},
   "outputs": [
    {
     "data": {
      "text/plain": [
       "11066880"
      ]
     },
     "execution_count": 17,
     "metadata": {},
     "output_type": "execute_result"
    }
   ],
   "source": [
    "npImage.size"
   ]
  },
  {
   "cell_type": "code",
   "execution_count": null,
   "id": "84e21086",
   "metadata": {},
   "outputs": [],
   "source": []
  }
 ],
 "metadata": {
  "kernelspec": {
   "display_name": "Python 3 (ipykernel)",
   "language": "python",
   "name": "python3"
  },
  "language_info": {
   "codemirror_mode": {
    "name": "ipython",
    "version": 3
   },
   "file_extension": ".py",
   "mimetype": "text/x-python",
   "name": "python",
   "nbconvert_exporter": "python",
   "pygments_lexer": "ipython3",
   "version": "3.9.12"
  }
 },
 "nbformat": 4,
 "nbformat_minor": 5
}
