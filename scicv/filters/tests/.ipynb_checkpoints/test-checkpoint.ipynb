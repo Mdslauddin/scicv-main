{
 "cells": [
  {
   "cell_type": "code",
   "execution_count": 3,
   "id": "2bbcb429",
   "metadata": {},
   "outputs": [],
   "source": [
    "path2 = '../../data/avengers.jpg'"
   ]
  },
  {
   "cell_type": "code",
   "execution_count": 6,
   "id": "54f256df",
   "metadata": {},
   "outputs": [
    {
     "name": "stdout",
     "output_type": "stream",
     "text": [
      "Standard deviation: 48.978280537378616\n"
     ]
    }
   ],
   "source": [
    "import numpy as np\n",
    "import cv2\n",
    "\n",
    "# path \n",
    "path = '../../data/ouput.png'\n",
    "# Load the image using OpenCV\n",
    "img = cv2.imread(path)\n",
    "\n",
    "# Convert the image to grayscale (if necessary)\n",
    "gray = cv2.cvtColor(img, cv2.COLOR_BGR2GRAY)\n",
    "\n",
    "# Calculate the standard deviation of the pixel values\n",
    "std_dev = np.std(gray)\n",
    "\n",
    "# Print the standard deviation\n",
    "print(\"Standard deviation:\", std_dev)\n"
   ]
  },
  {
   "cell_type": "code",
   "execution_count": null,
   "id": "76501a78",
   "metadata": {},
   "outputs": [],
   "source": [
    "cv2.imshow('wn',std_dev)\n",
    "cv2.waitKey(0)\n",
    "cv2.destroyAllWindows()"
   ]
  },
  {
   "cell_type": "code",
   "execution_count": null,
   "id": "e37c838a",
   "metadata": {},
   "outputs": [],
   "source": [
    "import numpy as np\n",
    "import cv2\n",
    "\n",
    "# Load the image using OpenCV\n",
    "img = cv2.imread(path2)\n",
    "\n",
    "# Convert the image to grayscale (if necessary)\n",
    "gray = cv2.cvtColor(img, cv2.COLOR_BGR2GRAY)\n",
    "\n",
    "# Calculate the mean and standard deviation of the pixel values\n",
    "mean, std_dev = cv2.meanStdDev(gray)\n",
    "\n",
    "# Apply the standard deviation filter to the image\n",
    "img_filtered = np.clip(gray - mean + std_dev, 0, 255).astype(np.uint8)\n",
    "\n",
    "# Display the original and filtered images\n",
    "cv2.imshow(\"Original\", gray)\n",
    "cv2.imshow(\"Filtered\", img_filtered)\n",
    "cv2.waitKey(0)\n",
    "cv2.destroyAllWindows()\n"
   ]
  },
  {
   "cell_type": "code",
   "execution_count": null,
   "id": "3c3906a2",
   "metadata": {},
   "outputs": [],
   "source": [
    "gray.ndim"
   ]
  },
  {
   "cell_type": "code",
   "execution_count": null,
   "id": "4ce709c4",
   "metadata": {},
   "outputs": [],
   "source": [
    "mean,std_dev"
   ]
  },
  {
   "cell_type": "code",
   "execution_count": null,
   "id": "47901909",
   "metadata": {},
   "outputs": [],
   "source": [
    "img_filtered = np.clip(gray - mean + std_dev, 0, 255).astype(np.uint8)"
   ]
  },
  {
   "cell_type": "code",
   "execution_count": null,
   "id": "063c0eba",
   "metadata": {},
   "outputs": [],
   "source": [
    "img_filtered"
   ]
  },
  {
   "cell_type": "code",
   "execution_count": null,
   "id": "09978649",
   "metadata": {},
   "outputs": [],
   "source": [
    "def meanStdDev(img):\n",
    "    \"\"\"\n",
    "    # Calculate the mean and standard deviation of the pixel values\n",
    "    mean, std_dev = meanStdDev(gray)\n",
    "    \n",
    "    \"\"\"\n",
    "    # Calculate the mean and standard deviation of the pixel values\n",
    "    mean = np.mean(img)\n",
    "    std_dev = np.std(img)\n",
    "    # Apply the standard deviation filter to the image\n",
    "    img_filtered = np.clip(gray - mean + std_dev, 0, 255).astype(np.uint8)\n",
    "    return img_filtered\n",
    "    \n",
    "    "
   ]
  },
  {
   "cell_type": "code",
   "execution_count": null,
   "id": "85823c29",
   "metadata": {},
   "outputs": [],
   "source": [
    "gray- np.mean(gray)+np.std(gray)"
   ]
  },
  {
   "cell_type": "code",
   "execution_count": null,
   "id": "0313c55c",
   "metadata": {},
   "outputs": [],
   "source": [
    "z =np.clip(gray+std_dev,0,255).astype(np.uint8)\n",
    "z"
   ]
  },
  {
   "cell_type": "code",
   "execution_count": null,
   "id": "d2932329",
   "metadata": {},
   "outputs": [],
   "source": [
    "cv2.imshow('wn',z)\n",
    "cv2.imshow('or',gray)\n",
    "cv2.waitKey(0)\n",
    "cv2.destroyAllWindows()"
   ]
  },
  {
   "cell_type": "code",
   "execution_count": null,
   "id": "8c382a3f",
   "metadata": {},
   "outputs": [],
   "source": [
    "meanStdDev(gray)"
   ]
  },
  {
   "cell_type": "code",
   "execution_count": null,
   "id": "1f4e46fa",
   "metadata": {},
   "outputs": [],
   "source": [
    "import numpy as np\n",
    "\n",
    "# Create a sample array\n",
    "array = np.array([[1, 2, 3], [4, 5, 6]])\n",
    "\n",
    "# Define the padding widths\n",
    "pad_width = [(1, 1), (1, 1)]\n",
    "\n",
    "# Pad the array using np.pad\n",
    "padded_array = np.pad(array, pad_width, mode='constant', constant_values=0)\n",
    "\n",
    "# Print the original and padded arrays\n",
    "print(\"Original array:\")\n",
    "print(array)\n",
    "print(\"\\nPadded array:\")\n",
    "print(padded_array)\n"
   ]
  },
  {
   "cell_type": "code",
   "execution_count": null,
   "id": "c3a73d33",
   "metadata": {},
   "outputs": [],
   "source": []
  },
  {
   "cell_type": "code",
   "execution_count": null,
   "id": "6c29b2f2",
   "metadata": {},
   "outputs": [],
   "source": [
    "def padarray(img):\n",
    "    # Define the padding widths\n",
    "    pad_width = [(1, 1), (1, 1)]\n",
    "    # Pad the array using np.pad\n",
    "    padded_array = np.pad(img, pad_width, mode='constant', constant_values=0)\n",
    "    return padded_array"
   ]
  },
  {
   "cell_type": "code",
   "execution_count": null,
   "id": "b1982ed5",
   "metadata": {},
   "outputs": [],
   "source": [
    "padarray(gray)"
   ]
  },
  {
   "cell_type": "code",
   "execution_count": null,
   "id": "2052144c",
   "metadata": {},
   "outputs": [],
   "source": [
    "gray"
   ]
  },
  {
   "cell_type": "code",
   "execution_count": null,
   "id": "89da7fc4",
   "metadata": {},
   "outputs": [],
   "source": []
  },
  {
   "cell_type": "code",
   "execution_count": null,
   "id": "782b0409",
   "metadata": {},
   "outputs": [],
   "source": []
  },
  {
   "cell_type": "code",
   "execution_count": null,
   "id": "d1f17ccf",
   "metadata": {},
   "outputs": [],
   "source": []
  },
  {
   "cell_type": "code",
   "execution_count": null,
   "id": "281511a6",
   "metadata": {},
   "outputs": [],
   "source": []
  },
  {
   "cell_type": "code",
   "execution_count": null,
   "id": "22c2b4f2",
   "metadata": {},
   "outputs": [],
   "source": []
  },
  {
   "cell_type": "code",
   "execution_count": null,
   "id": "da05431b",
   "metadata": {},
   "outputs": [],
   "source": [
    "gray"
   ]
  },
  {
   "cell_type": "code",
   "execution_count": null,
   "id": "c67bc2de",
   "metadata": {},
   "outputs": [],
   "source": [
    "z = padarray(gray,[(1,1),(1,1)])"
   ]
  },
  {
   "cell_type": "code",
   "execution_count": null,
   "id": "dad71569",
   "metadata": {},
   "outputs": [],
   "source": [
    "cv2.imshow('wn',z)\n",
    "cv2.imshow('orig',gray)\n",
    "cv2.waitKey(0)\n",
    "cv2.destroyAllWindows()"
   ]
  },
  {
   "cell_type": "code",
   "execution_count": null,
   "id": "f17ab654",
   "metadata": {},
   "outputs": [],
   "source": []
  },
  {
   "cell_type": "code",
   "execution_count": null,
   "id": "936f4cb1",
   "metadata": {},
   "outputs": [],
   "source": [
    "padded_array = np.pad(gray, pad_width, mode='constant', constant_values=0)"
   ]
  },
  {
   "cell_type": "code",
   "execution_count": null,
   "id": "47686c60",
   "metadata": {},
   "outputs": [],
   "source": [
    "cv2.imshow('wn',padded_array)\n",
    "cv2.imshow('orig',gray)\n",
    "cv2.waitKey(0)\n",
    "cv2.destroyAllWindows()"
   ]
  },
  {
   "cell_type": "code",
   "execution_count": null,
   "id": "f2c350cc",
   "metadata": {},
   "outputs": [],
   "source": [
    "padded_array,gray"
   ]
  },
  {
   "cell_type": "code",
   "execution_count": null,
   "id": "e0a0c1c3",
   "metadata": {},
   "outputs": [],
   "source": [
    "import numpy as np\n",
    "from skimage import data, feature\n",
    "import matplotlib.pyplot as plt\n",
    "\n",
    "# Load the image using the skimage.data module\n",
    "image = data.coins()\n",
    "\n",
    "# Compute the Harris corner response function\n",
    "response = feature.corner_harris(image, method='k', k=0.04)\n",
    "\n",
    "# Compute the maximum Hessian norm over all pixels\n",
    "max_hessian_norm = np.max(response)\n",
    "\n",
    "# Print the maximum Hessian norm\n",
    "print(\"Maximum Hessian norm:\", max_hessian_norm)\n"
   ]
  },
  {
   "cell_type": "code",
   "execution_count": null,
   "id": "6f89e26d",
   "metadata": {},
   "outputs": [],
   "source": [
    "response\n"
   ]
  },
  {
   "cell_type": "code",
   "execution_count": null,
   "id": "14fab4e1",
   "metadata": {},
   "outputs": [],
   "source": [
    "import cv2\n",
    "import numpy as np\n",
    "\n",
    "# Load the image using OpenCV\n",
    "img = cv2.imread(path2, 0)\n",
    "\n",
    "# Define the size of the local region\n",
    "local_size = (3, 3)\n",
    "\n",
    "# Compute the mean and standard deviation of the image within each local region\n",
    "mean, stddev = cv2.meanStdDev(img, mask=None, mean=None, stddev=None, squareRoot=False)\n",
    "\n",
    "# Normalize the image based on the local mean and standard deviation\n",
    "normalized_img = (img - mean) / (stddev + 1e-5)\n"
   ]
  },
  {
   "cell_type": "code",
   "execution_count": null,
   "id": "6f4b5738",
   "metadata": {},
   "outputs": [],
   "source": []
  },
  {
   "cell_type": "code",
   "execution_count": null,
   "id": "e1105629",
   "metadata": {},
   "outputs": [],
   "source": []
  },
  {
   "cell_type": "code",
   "execution_count": null,
   "id": "b98270e5",
   "metadata": {},
   "outputs": [],
   "source": []
  },
  {
   "cell_type": "code",
   "execution_count": null,
   "id": "2156d81a",
   "metadata": {
    "scrolled": true
   },
   "outputs": [],
   "source": [
    "import numpy as np\n",
    "import scipy.ndimage as ndimage\n",
    "\n",
    "# Load the image\n",
    "img =gray\n",
    "\n",
    "# Define the size of the filter kernel\n",
    "kernel_size = np.ones((5,5))\n",
    "\n",
    "# Compute the entropy for each pixel in the image\n",
    "entropy = np.zeros_like(img, dtype=np.float)\n",
    "for i in range(img.ndim):\n",
    "    filtered = ndimage.convolve(img, np.ones(kernel_size), mode='reflect')\n",
    "    entropy += -filtered * np.log2(filtered)\n",
    "\n",
    "# Normalize the entropy values to the range [0, 1]\n",
    "entropy = entropy / entropy.max()\n"
   ]
  },
  {
   "cell_type": "code",
   "execution_count": null,
   "id": "959a3c28",
   "metadata": {},
   "outputs": [],
   "source": [
    "import numpy as np\n",
    "from scipy import fftpack\n",
    "\n",
    "# Load the degraded image\n",
    "img =gray\n",
    "\n",
    "# Define the filter kernel\n",
    "kernel = np.ones((5,5))\n",
    "\n",
    "# Compute the Fourier transforms of the image and the kernel\n",
    "img_ft = fftpack.fftn(img)\n",
    "kernel_ft = fftpack.fftn(kernel)\n",
    "\n",
    "# Compute the power spectra of the image and the kernel\n",
    "img_ps = np.abs(img_ft)**2\n",
    "kernel_ps = np.abs(kernel_ft)**2\n",
    "\n",
    "# Compute the Wiener filter\n",
    "wiener_ft = img_ft * np.conj(kernel_ft) / (kernel_ps + np.finfo(float).eps)\n",
    "\n",
    "# Inverse Fourier transform the result to obtain the filtered image\n",
    "wiener = fftpack.ifftn(wiener_ft).real\n"
   ]
  },
  {
   "cell_type": "code",
   "execution_count": null,
   "id": "777e9396",
   "metadata": {},
   "outputs": [],
   "source": [
    "path2"
   ]
  },
  {
   "cell_type": "code",
   "execution_count": null,
   "id": "a4e55fff",
   "metadata": {},
   "outputs": [],
   "source": [
    "gray"
   ]
  },
  {
   "cell_type": "code",
   "execution_count": 4,
   "id": "939ba6df",
   "metadata": {},
   "outputs": [
    {
     "ename": "FileNotFoundError",
     "evalue": "[Errno 2] No such file or directory: '../../data/avengers.jpg.jpg'",
     "output_type": "error",
     "traceback": [
      "\u001b[1;31m---------------------------------------------------------------------------\u001b[0m",
      "\u001b[1;31mFileNotFoundError\u001b[0m                         Traceback (most recent call last)",
      "Input \u001b[1;32mIn [4]\u001b[0m, in \u001b[0;36m<cell line: 21>\u001b[1;34m()\u001b[0m\n\u001b[0;32m     21\u001b[0m \u001b[38;5;28;01mif\u001b[39;00m \u001b[38;5;18m__name__\u001b[39m \u001b[38;5;241m==\u001b[39m \u001b[38;5;124m\"\u001b[39m\u001b[38;5;124m__main__\u001b[39m\u001b[38;5;124m\"\u001b[39m:\n\u001b[0;32m     22\u001b[0m     imgName \u001b[38;5;241m=\u001b[39m path2\n\u001b[1;32m---> 23\u001b[0m     \u001b[43mimgRoundFunc\u001b[49m\u001b[43m(\u001b[49m\u001b[43mimgName\u001b[49m\u001b[43m)\u001b[49m\n",
      "Input \u001b[1;32mIn [4]\u001b[0m, in \u001b[0;36mimgRoundFunc\u001b[1;34m(imgName)\u001b[0m\n\u001b[0;32m      6\u001b[0m \u001b[38;5;28;01mdef\u001b[39;00m \u001b[38;5;21mimgRoundFunc\u001b[39m(imgName):\n\u001b[1;32m----> 7\u001b[0m     img \u001b[38;5;241m=\u001b[39m \u001b[43mImage\u001b[49m\u001b[38;5;241;43m.\u001b[39;49m\u001b[43mopen\u001b[49m\u001b[43m(\u001b[49m\u001b[38;5;124;43mf\u001b[39;49m\u001b[38;5;124;43m\"\u001b[39;49m\u001b[38;5;132;43;01m{\u001b[39;49;00m\u001b[43mimgName\u001b[49m\u001b[38;5;132;43;01m}\u001b[39;49;00m\u001b[38;5;124;43m.jpg\u001b[39;49m\u001b[38;5;124;43m\"\u001b[39;49m\u001b[43m)\u001b[49m\u001b[38;5;241m.\u001b[39mconvert(\u001b[38;5;124m\"\u001b[39m\u001b[38;5;124mRGB\u001b[39m\u001b[38;5;124m\"\u001b[39m) \u001b[38;5;66;03m#convert to RGB\u001b[39;00m\n\u001b[0;32m      8\u001b[0m     arrImg \u001b[38;5;241m=\u001b[39m np\u001b[38;5;241m.\u001b[39marray(img) \u001b[38;5;66;03m#convert to numpy array\u001b[39;00m\n\u001b[0;32m     10\u001b[0m     alph \u001b[38;5;241m=\u001b[39m Image\u001b[38;5;241m.\u001b[39mnew(\u001b[38;5;124m'\u001b[39m\u001b[38;5;124mL\u001b[39m\u001b[38;5;124m'\u001b[39m, img\u001b[38;5;241m.\u001b[39msize, \u001b[38;5;241m0\u001b[39m) \u001b[38;5;66;03m#create a new image with alpha channel\u001b[39;00m\n",
      "File \u001b[1;32mD:\\Anaconda\\lib\\site-packages\\PIL\\Image.py:2953\u001b[0m, in \u001b[0;36mopen\u001b[1;34m(fp, mode, formats)\u001b[0m\n\u001b[0;32m   2950\u001b[0m     filename \u001b[38;5;241m=\u001b[39m fp\n\u001b[0;32m   2952\u001b[0m \u001b[38;5;28;01mif\u001b[39;00m filename:\n\u001b[1;32m-> 2953\u001b[0m     fp \u001b[38;5;241m=\u001b[39m \u001b[43mbuiltins\u001b[49m\u001b[38;5;241;43m.\u001b[39;49m\u001b[43mopen\u001b[49m\u001b[43m(\u001b[49m\u001b[43mfilename\u001b[49m\u001b[43m,\u001b[49m\u001b[43m \u001b[49m\u001b[38;5;124;43m\"\u001b[39;49m\u001b[38;5;124;43mrb\u001b[39;49m\u001b[38;5;124;43m\"\u001b[39;49m\u001b[43m)\u001b[49m\n\u001b[0;32m   2954\u001b[0m     exclusive_fp \u001b[38;5;241m=\u001b[39m \u001b[38;5;28;01mTrue\u001b[39;00m\n\u001b[0;32m   2956\u001b[0m \u001b[38;5;28;01mtry\u001b[39;00m:\n",
      "\u001b[1;31mFileNotFoundError\u001b[0m: [Errno 2] No such file or directory: '../../data/avengers.jpg.jpg'"
     ]
    }
   ],
   "source": [
    "#Import libraries\n",
    "import numpy as np\n",
    "from PIL import Image, ImageDraw\n",
    "\n",
    "#create the rounded image\n",
    "def imgRoundFunc(imgName):\n",
    "    img = Image.open(f\"{imgName}.jpg\").convert(\"RGB\") #convert to RGB\n",
    "    arrImg = np.array(img) #convert to numpy array\n",
    "\n",
    "    alph = Image.new('L', img.size, 0) #create a new image with alpha channel\n",
    "    draw = ImageDraw.Draw(alph) #create a draw object\n",
    "    draw.pieslice([0, 0, img.size[0], img.size[1]], 0, 360, fill = 255) #create a circle\n",
    "\n",
    "    arAlpha = np.array(alph) #conver to numpy array\n",
    "\n",
    "    arrImg = np.dstack((arrImg, arAlpha)) #add alpha channel to the image\n",
    "\n",
    "    Image.fromarray(arrImg).save('roundImgOutput.png') #save the resultant image\n",
    "\n",
    "#driver\n",
    "if __name__ == \"__main__\":\n",
    "    imgName = path2\n",
    "    imgRoundFunc(imgName)"
   ]
  },
  {
   "cell_type": "code",
   "execution_count": 5,
   "id": "6295dea8",
   "metadata": {},
   "outputs": [
    {
     "data": {
      "text/plain": [
       "'../../data/avengers.jpg'"
      ]
     },
     "execution_count": 5,
     "metadata": {},
     "output_type": "execute_result"
    }
   ],
   "source": [
    "path2"
   ]
  },
  {
   "cell_type": "code",
   "execution_count": null,
   "id": "5395a553",
   "metadata": {},
   "outputs": [],
   "source": []
  },
  {
   "cell_type": "code",
   "execution_count": 24,
   "id": "f17e34a8",
   "metadata": {},
   "outputs": [],
   "source": [
    "import numpy as np\n",
    "from PIL import Image, ImageDraw\n",
    "def circle(img):\n",
    "    img=Image.open(img).convert(\"RGB\")\n",
    "    npImage=np.array(img)\n",
    "    h,w=img.size\n",
    "    # Create same size alpha layer with circle\n",
    "    alpha = Image.new('L', img.size,0)\n",
    "    draw = ImageDraw.Draw(alpha)\n",
    "    draw.pieslice([0,0,h,w],0,360,fill=255)\n",
    "\n",
    "    # Convert alpha Image to numpy array\n",
    "    npAlpha=np.array(alpha)\n",
    "    \n",
    "    # Add alpha layer to RGB\n",
    "    npImage=np.dstack((npImage,npAlpha))\n",
    "    return npImage"
   ]
  },
  {
   "cell_type": "code",
   "execution_count": 26,
   "id": "905cb557",
   "metadata": {},
   "outputs": [],
   "source": [
    "z = circle(path2)"
   ]
  },
  {
   "cell_type": "code",
   "execution_count": 27,
   "id": "f7957be3",
   "metadata": {},
   "outputs": [],
   "source": [
    "cv2.imshow('wn',z)\n",
    "cv2.waitKey(0)\n",
    "cv2.destroyAllWindows()"
   ]
  },
  {
   "cell_type": "code",
   "execution_count": 8,
   "id": "c087943b",
   "metadata": {},
   "outputs": [
    {
     "ename": "TypeError",
     "evalue": "cannot unpack non-iterable int object",
     "output_type": "error",
     "traceback": [
      "\u001b[1;31m---------------------------------------------------------------------------\u001b[0m",
      "\u001b[1;31mTypeError\u001b[0m                                 Traceback (most recent call last)",
      "Input \u001b[1;32mIn [8]\u001b[0m, in \u001b[0;36m<cell line: 1>\u001b[1;34m()\u001b[0m\n\u001b[1;32m----> 1\u001b[0m \u001b[43mcircle\u001b[49m\u001b[43m(\u001b[49m\u001b[43mgray\u001b[49m\u001b[43m)\u001b[49m\n",
      "Input \u001b[1;32mIn [7]\u001b[0m, in \u001b[0;36mcircle\u001b[1;34m(img)\u001b[0m\n\u001b[0;32m      1\u001b[0m \u001b[38;5;28;01mdef\u001b[39;00m \u001b[38;5;21mcircle\u001b[39m(img):\n\u001b[1;32m----> 2\u001b[0m     h,w\u001b[38;5;241m=\u001b[39mimg\u001b[38;5;241m.\u001b[39msize\n\u001b[0;32m      3\u001b[0m     \u001b[38;5;28;01mreturn\u001b[39;00m h,w\n",
      "\u001b[1;31mTypeError\u001b[0m: cannot unpack non-iterable int object"
     ]
    }
   ],
   "source": [
    "circle(gray)"
   ]
  },
  {
   "cell_type": "code",
   "execution_count": 9,
   "id": "9259e5aa",
   "metadata": {},
   "outputs": [
    {
     "data": {
      "text/plain": [
       "392000"
      ]
     },
     "execution_count": 9,
     "metadata": {},
     "output_type": "execute_result"
    }
   ],
   "source": [
    "gray.size"
   ]
  },
  {
   "cell_type": "code",
   "execution_count": 10,
   "id": "9474e8a2",
   "metadata": {},
   "outputs": [],
   "source": [
    "img=Image.open(path2).convert(\"RGB\")\n",
    "npImage=np.array(img)"
   ]
  },
  {
   "cell_type": "code",
   "execution_count": 18,
   "id": "fc245b73",
   "metadata": {},
   "outputs": [
    {
     "data": {
      "text/plain": [
       "PIL.Image.Image"
      ]
     },
     "execution_count": 18,
     "metadata": {},
     "output_type": "execute_result"
    }
   ],
   "source": [
    "type(img)"
   ]
  },
  {
   "cell_type": "code",
   "execution_count": 12,
   "id": "70e681eb",
   "metadata": {},
   "outputs": [],
   "source": [
    "h,w=img.size"
   ]
  },
  {
   "cell_type": "code",
   "execution_count": 14,
   "id": "a305251d",
   "metadata": {},
   "outputs": [
    {
     "data": {
      "text/plain": [
       "2560"
      ]
     },
     "execution_count": 14,
     "metadata": {},
     "output_type": "execute_result"
    }
   ],
   "source": [
    "h"
   ]
  },
  {
   "cell_type": "code",
   "execution_count": 15,
   "id": "57c3b8e2",
   "metadata": {},
   "outputs": [
    {
     "data": {
      "text/plain": [
       "(2560, 1441)"
      ]
     },
     "execution_count": 15,
     "metadata": {},
     "output_type": "execute_result"
    }
   ],
   "source": [
    "img.size"
   ]
  },
  {
   "cell_type": "code",
   "execution_count": 17,
   "id": "e07041aa",
   "metadata": {},
   "outputs": [
    {
     "data": {
      "text/plain": [
       "11066880"
      ]
     },
     "execution_count": 17,
     "metadata": {},
     "output_type": "execute_result"
    }
   ],
   "source": [
    "npImage.size"
   ]
  },
  {
   "cell_type": "markdown",
   "id": "0ef5aacc",
   "metadata": {},
   "source": [
    "# _morphology"
   ]
  },
  {
   "cell_type": "code",
   "execution_count": 1,
   "id": "c92b84c1",
   "metadata": {},
   "outputs": [],
   "source": [
    "__all__ = ['binary_closing','binary_dilation','binary_erosion','binary_fill_holes',\n",
    "          'binary_hit_or_miss','binary_opening']"
   ]
  },
  {
   "cell_type": "code",
   "execution_count": 2,
   "id": "df25b77e",
   "metadata": {},
   "outputs": [],
   "source": [
    "import numpy as np\n",
    "\n",
    "def binary_closing(image, struct_elem):\n",
    "    \"\"\"\n",
    "    Performs binary closing of a multidimensional binary image with a given structuring element.\n",
    "    \n",
    "    Args:\n",
    "    - image (ndarray): The input binary image.\n",
    "    - struct_elem (ndarray): The structuring element used for closing.\n",
    "    \n",
    "    Returns:\n",
    "    - output (ndarray): The closed binary image.\n",
    "    \"\"\"\n",
    "    # Compute the dimensions of the image and the structuring element\n",
    "    img_dims = np.ndim(image)\n",
    "    se_dims = np.ndim(struct_elem)\n",
    "    \n",
    "    # Check if the dimensions of the image and the structuring element match\n",
    "    if img_dims != se_dims:\n",
    "        raise ValueError(\"The dimensions of the image and the structuring element do not match.\")\n",
    "    \n",
    "    # Compute the center of the structuring element\n",
    "    se_center = tuple(np.array(struct_elem.shape) // 2)\n",
    "    \n",
    "    # Pad the image with zeros to handle edge cases\n",
    "    pad_width = tuple([(se_center[i], se_center[i]) for i in range(se_dims)])\n",
    "    padded_img = np.pad(image, pad_width, mode='constant')\n",
    "    \n",
    "    # Iterate over all positions in the image\n",
    "    output = np.zeros_like(image)\n",
    "    for pos in np.ndindex(image.shape):\n",
    "        # Perform binary dilation using the structuring element\n",
    "        subimage = padded_img[\n",
    "            tuple([slice(pos[i] - se_center[i], pos[i] + se_center[i] + 1) for i in range(img_dims)])\n",
    "        ]\n",
    "        dilation = np.logical_and(subimage, struct_elem)\n",
    "        \n",
    "        # Perform binary erosion using the structuring element\n",
    "        erosion = np.ones_like(dilation)\n",
    "        for i in range(se_dims):\n",
    "            if i != img_dims:\n",
    "                erosion = np.all(erosion, axis=i, keepdims=True)\n",
    "        erosion = np.logical_and(erosion, struct_elem)\n",
    "        erosion = np.all(erosion, axis=se_dims, keepdims=True)\n",
    "        erosion = np.logical_and(erosion, subimage)\n",
    "        \n",
    "        # Set the output pixel to 1 if the erosion is non-zero\n",
    "        if np.any(erosion):\n",
    "            output[pos] = 1\n",
    "    \n",
    "    return output\n"
   ]
  },
  {
   "cell_type": "code",
   "execution_count": 3,
   "id": "0ce06f91",
   "metadata": {},
   "outputs": [],
   "source": [
    "import numpy as np\n",
    "\n",
    "def binary_dilation(image, struct_elem):\n",
    "    \"\"\"\n",
    "    Performs binary dilation of a multidimensional binary image with a given structuring element.\n",
    "    \n",
    "    Args:\n",
    "    - image (ndarray): The input binary image.\n",
    "    - struct_elem (ndarray): The structuring element used for dilation.\n",
    "    \n",
    "    Returns:\n",
    "    - output (ndarray): The dilated binary image.\n",
    "    \"\"\"\n",
    "    # Compute the dimensions of the image and the structuring element\n",
    "    img_dims = np.ndim(image)\n",
    "    se_dims = np.ndim(struct_elem)\n",
    "    \n",
    "    # Check if the dimensions of the image and the structuring element match\n",
    "    if img_dims != se_dims:\n",
    "        raise ValueError(\"The dimensions of the image and the structuring element do not match.\")\n",
    "    \n",
    "    # Compute the center of the structuring element\n",
    "    se_center = tuple(np.array(struct_elem.shape) // 2)\n",
    "    \n",
    "    # Pad the image with zeros to handle edge cases\n",
    "    pad_width = tuple([(se_center[i], se_center[i]) for i in range(se_dims)])\n",
    "    padded_img = np.pad(image, pad_width, mode='constant')\n",
    "    \n",
    "    # Iterate over all positions in the image\n",
    "    output = np.zeros_like(image)\n",
    "    for pos in np.ndindex(image.shape):\n",
    "        # Perform binary dilation using the structuring element\n",
    "        subimage = padded_img[\n",
    "            tuple([slice(pos[i] - se_center[i], pos[i] + se_center[i] + 1) for i in range(img_dims)])\n",
    "        ]\n",
    "        dilation = np.logical_and(subimage, struct_elem)\n",
    "        \n",
    "        # Set the output pixel to 1 if the dilation is non-zero\n",
    "        if np.any(dilation):\n",
    "            output[pos] = 1\n",
    "    \n",
    "    return output\n"
   ]
  },
  {
   "cell_type": "code",
   "execution_count": null,
   "id": "5697bd48",
   "metadata": {},
   "outputs": [],
   "source": [
    "import numpy as np\n",
    "\n",
    "def binary_erosion(image, struct_elem):\n",
    "    \"\"\"\n",
    "    Performs binary erosion of a multidimensional binary image with a given structuring element.\n",
    "    \n",
    "    Args:\n",
    "    - image (ndarray): The input binary image.\n",
    "    - struct_elem (ndarray): The structuring element used for erosion.\n",
    "    \n",
    "    Returns:\n",
    "    - output (ndarray): The eroded binary image.\n",
    "    \"\"\"\n",
    "    # Compute the dimensions of the image and the structuring element\n",
    "    img_dims = np.ndim(image)\n",
    "    se_dims = np.ndim(struct_elem)\n",
    "    \n",
    "    # Check if the dimensions of the image and the structuring element match\n",
    "    if img_dims != se_dims:\n",
    "        raise ValueError(\"The dimensions of the image and the structuring element do not match.\")\n",
    "    \n",
    "    # Compute the center of the structuring element\n",
    "    se_center = tuple(np.array(struct_elem.shape) // 2)\n",
    "    \n",
    "    # Pad the image with zeros to handle edge cases\n",
    "    pad_width = tuple([(se_center[i], se_center[i]) for i in range(se_dims)])\n",
    "    padded_img = np.pad(image, pad_width, mode='constant')\n",
    "    \n",
    "    # Iterate over all positions in the image\n",
    "    output = np.ones_like(image)\n",
    "    for pos in np.ndindex(image.shape):\n",
    "        # Perform binary erosion using the structuring element\n",
    "        subimage = padded_img[\n",
    "            tuple([slice(pos[i] - se_center[i], pos[i] + se_center[i] + 1) for i in range(img_dims)])\n",
    "        ]\n",
    "        erosion = np.ones_like(struct_elem)\n",
    "        for i in range(se_dims):\n",
    "            if i != img_dims:\n",
    "                erosion = np.all(erosion, axis=i, keepdims=True)\n",
    "        erosion = np.logical_and(erosion, struct_elem)\n",
    "        erosion = np.all(erosion, axis=se_dims, keepdims=True)\n",
    "        erosion = np.logical_and(erosion, subimage)\n",
    "        \n",
    "        # Set the output pixel to 0 if the erosion is zero\n",
    "        if not np.any(erosion):\n",
    "            output[pos] = 0\n",
    "    \n",
    "    return output\n"
   ]
  },
  {
   "cell_type": "code",
   "execution_count": null,
   "id": "b41ffa21",
   "metadata": {},
   "outputs": [],
   "source": [
    "import numpy as np\n",
    "from scipy.ndimage import binary_fill_holes\n",
    "\n",
    "def fill_holes(image):\n",
    "    \"\"\"\n",
    "    Fills the holes in the binary objects in a multidimensional binary image.\n",
    "    \n",
    "    Args:\n",
    "    - image (ndarray): The input binary image.\n",
    "    \n",
    "    Returns:\n",
    "    - output (ndarray): The binary image with the holes filled in.\n",
    "    \"\"\"\n",
    "    # Compute the connected components of the image\n",
    "    labels, num_labels = label(image)\n",
    "    \n",
    "    # Iterate over each label and fill the holes in the corresponding object\n",
    "    output = np.zeros_like(image)\n",
    "    for label_val in range(1, num_labels+1):\n",
    "        label_mask = (labels == label_val)\n",
    "        label_mask_filled = binary_fill_holes(label_mask)\n",
    "        output[label_mask_filled] = 1\n",
    "    \n",
    "    return output\n"
   ]
  },
  {
   "cell_type": "code",
   "execution_count": null,
   "id": "f2f54858",
   "metadata": {},
   "outputs": [],
   "source": [
    "import numpy as np\n",
    "\n",
    "def binary_hit_or_miss(image, struct_elem_foreground, struct_elem_background=None):\n",
    "    \"\"\"\n",
    "    Performs binary hit-or-miss transform of a multidimensional binary image with given foreground and background structuring elements.\n",
    "    \n",
    "    Args:\n",
    "    - image (ndarray): The input binary image.\n",
    "    - struct_elem_foreground (ndarray): The foreground structuring element used for hit-or-miss transform.\n",
    "    - struct_elem_background (ndarray): The background structuring element used for hit-or-miss transform. If None, use the complement of the foreground structuring element.\n",
    "    \n",
    "    Returns:\n",
    "    - output (ndarray): The binary image with hit-or-miss transform applied.\n",
    "    \"\"\"\n",
    "    # Compute the dimensions of the image and the structuring elements\n",
    "    img_dims = np.ndim(image)\n",
    "    se_dims = np.ndim(struct_elem_foreground)\n",
    "    \n",
    "    # Check if the dimensions of the image and the structuring elements match\n",
    "    if img_dims != se_dims:\n",
    "        raise ValueError(\"The dimensions of the image and the structuring elements do not match.\")\n",
    "    \n",
    "    # Compute the center of the foreground structuring element\n",
    "    se_foreground_center = tuple(np.array(struct_elem_foreground.shape) // 2)\n",
    "    \n",
    "    # Compute the center of the background structuring element\n",
    "    if struct_elem_background is None:\n",
    "        struct_elem_background = 1 - struct_elem_foreground\n",
    "    se_background_center = tuple(np.array(struct_elem_background.shape) // 2)\n",
    "    \n",
    "    # Pad the image with zeros to handle edge cases\n",
    "    pad_width_foreground = tuple([(se_foreground_center[i], se_foreground_center[i]) for i in range(se_dims)])\n",
    "    padded_img_foreground = np.pad(image, pad_width_foreground, mode='constant')\n",
    "    \n",
    "    pad_width_background = tuple([(se_background_center[i], se_background_center[i]) for i in range(se_dims)])\n",
    "    padded_img_background = np.pad(1 - image, pad_width_background, mode='constant')\n",
    "    \n",
    "    # Iterate over all positions in the image\n",
    "    output = np.zeros_like(image)\n",
    "    for pos in np.ndindex(image.shape):\n",
    "        # Perform hit-or-miss transform using the foreground and background structuring elements\n",
    "        subimage_foreground = padded_img_foreground[\n",
    "            tuple([slice(pos[i] - se_foreground_center[i], pos[i] + se_foreground_center[i] + 1) for i in range(img_dims)])\n",
    "        ]\n",
    "        hit_foreground = np.all(np.logical_or(struct_elem_foreground == 0, subimage_foreground == 1), axis=se_dims)\n",
    "        \n",
    "        subimage_background = padded_img_background[\n",
    "            tuple([slice(pos[i] - se_background_center[i], pos[i] + se_background_center[i] + 1) for i in range(img_dims)])\n",
    "        ]\n",
    "        hit_background = np.all(np.logical_or(struct_elem_background == 0, subimage_background == 1), axis=se_dims)\n",
    "        \n",
    "        # Set the output pixel to 1 if the hit-or-miss transform is successful\n",
    "        if np.all(np.logical_or(hit_foreground == 1, hit_background == 1)):\n",
    "            output[pos] = 1\n",
    "    \n",
    "    return output\n"
   ]
  },
  {
   "cell_type": "code",
   "execution_count": null,
   "id": "5f9758b5",
   "metadata": {},
   "outputs": [],
   "source": [
    "import numpy as np\n",
    "\n",
    "def binary_opening(image, struct_elem):\n",
    "    \"\"\"\n",
    "    Performs binary opening of a multidimensional binary image with given structuring element.\n",
    "    \n",
    "    Args:\n",
    "    - image (ndarray): The input binary image.\n",
    "    - struct_elem (ndarray): The structuring element used for binary opening.\n",
    "    \n",
    "    Returns:\n",
    "    - output (ndarray): The binary image with binary opening applied.\n",
    "    \"\"\"\n",
    "    # Compute the dimensions of the image and the structuring element\n",
    "    img_dims = np.ndim(image)\n",
    "    se_dims = np.ndim(struct_elem)\n",
    "    \n",
    "    # Check if the dimensions of the image and the structuring element match\n",
    "    if img_dims != se_dims:\n",
    "        raise ValueError(\"The dimensions of the image and the structuring element do not match.\")\n",
    "    \n",
    "    # Compute the center of the structuring element\n",
    "    se_center = tuple(np.array(struct_elem.shape) // 2)\n",
    "    \n",
    "    # Perform erosion followed by dilation using the structuring element\n",
    "    eroded_image = image.copy()\n",
    "    for pos in np.ndindex(image.shape):\n",
    "        subimage = image[\n",
    "            tuple([slice(pos[i] - se_center[i], pos[i] + se_center[i] + 1) for i in range(img_dims)])\n",
    "        ]\n",
    "        if np.all(np.logical_or(struct_elem == 0, subimage == 1)):\n",
    "            eroded_image[pos] = 0\n",
    "    \n",
    "    output = eroded_image.copy()\n",
    "    for pos in np.ndindex(image.shape):\n",
    "        subimage = eroded_image[\n",
    "            tuple([slice(pos[i] - se_center[i], pos[i] + se_center[i] + 1) for i in range(img_dims)])\n",
    "        ]\n",
    "        if np.any(np.logical_and(struct_elem == 1, subimage == 0)):\n",
    "            output[pos] = 0\n",
    "    \n",
    "    return output\n"
   ]
  },
  {
   "cell_type": "code",
   "execution_count": null,
   "id": "c1a283d6",
   "metadata": {},
   "outputs": [],
   "source": [
    "import numpy as np\n",
    "\n",
    "def binary_propagation(image, struct_elem):\n",
    "    \"\"\"\n",
    "    Performs binary propagation of a multidimensional binary image with given structuring element.\n",
    "    \n",
    "    Args:\n",
    "    - image (ndarray): The input binary image.\n",
    "    - struct_elem (ndarray): The structuring element used for binary propagation.\n",
    "    \n",
    "    Returns:\n",
    "    - output (ndarray): The binary image with binary propagation applied.\n",
    "    \"\"\"\n",
    "    # Compute the dimensions of the image and the structuring element\n",
    "    img_dims = np.ndim(image)\n",
    "    se_dims = np.ndim(struct_elem)\n",
    "    \n",
    "    # Check if the dimensions of the image and the structuring element match\n",
    "    if img_dims != se_dims:\n",
    "        raise ValueError(\"The dimensions of the image and the structuring element do not match.\")\n",
    "    \n",
    "    # Compute the center of the structuring element\n",
    "    se_center = tuple(np.array(struct_elem.shape) // 2)\n",
    "    \n",
    "    # Initialize the output image to be the same as the input image\n",
    "    output = image.copy()\n",
    "    \n",
    "    # Perform propagation using the structuring element\n",
    "    while True:\n",
    "        prev_output = output.copy()\n",
    "        for pos in np.ndindex(image.shape):\n",
    "            subimage = output[\n",
    "                tuple([slice(pos[i] - se_center[i], pos[i] + se_center[i] + 1) for i in range(img_dims)])\n",
    "            ]\n",
    "            if np.any(np.logical_and(struct_elem == 1, subimage == 0)):\n",
    "                output[pos] = 1\n",
    "        \n",
    "        if np.array_equal(prev_output, output):\n",
    "            break\n",
    "    \n",
    "    return output\n"
   ]
  },
  {
   "cell_type": "code",
   "execution_count": null,
   "id": "c60aecd8",
   "metadata": {},
   "outputs": [],
   "source": [
    "import numpy as np\n",
    "from scipy.ndimage import morphology\n",
    "\n",
    "def black_tophat(image, struct_elem):\n",
    "    \"\"\"\n",
    "    Performs the multidimensional black top-hat filter on a given image with a given structuring element.\n",
    "\n",
    "    Args:\n",
    "    - image (ndarray): The input image.\n",
    "    - struct_elem (ndarray): The structuring element used for the black top-hat filter.\n",
    "\n",
    "    Returns:\n",
    "    - output (ndarray): The image with the black top-hat filter applied.\n",
    "    \"\"\"\n",
    "    # Compute the dimensions of the image and the structuring element\n",
    "    img_dims = np.ndim(image)\n",
    "    se_dims = np.ndim(struct_elem)\n",
    "\n",
    "    # Check if the dimensions of the image and the structuring element match\n",
    "    if img_dims != se_dims:\n",
    "        raise ValueError(\"The dimensions of the image and the structuring element do not match.\")\n",
    "\n",
    "    # Compute the center of the structuring element\n",
    "    se_center = tuple(np.array(struct_elem.shape) // 2)\n",
    "\n",
    "    # Perform the black top-hat filter\n",
    "    output = morphology.black_tophat(image, structure=struct_elem)\n",
    "\n",
    "    return output\n"
   ]
  },
  {
   "cell_type": "code",
   "execution_count": null,
   "id": "4e8007c9",
   "metadata": {},
   "outputs": [],
   "source": [
    "import numpy as np\n",
    "\n",
    "def distance_transform(image):\n",
    "    \"\"\"\n",
    "    Computes the distance transform of a binary image using a brute force algorithm.\n",
    "\n",
    "    Args:\n",
    "    - image (ndarray): The input binary image.\n",
    "\n",
    "    Returns:\n",
    "    - output (ndarray): The distance transform of the input image.\n",
    "    \"\"\"\n",
    "    # Compute the dimensions of the image\n",
    "    img_dims = np.ndim(image)\n",
    "\n",
    "    # Initialize the output image to be the same as the input image\n",
    "    output = image.copy()\n",
    "\n",
    "    # Compute the distance transform\n",
    "    for pos in np.ndindex(image.shape):\n",
    "        min_dist = np.inf\n",
    "        for ref_pos in np.ndindex(image.shape):\n",
    "            if image[ref_pos]:\n",
    "                dist = np.linalg.norm(np.array(ref_pos) - np.array(pos))\n",
    "                if dist < min_dist:\n",
    "                    min_dist = dist\n",
    "        output[pos] = min_dist\n",
    "\n",
    "    return output\n"
   ]
  },
  {
   "cell_type": "code",
   "execution_count": null,
   "id": "891afe53",
   "metadata": {},
   "outputs": [],
   "source": [
    "import numpy as np\n",
    "\n",
    "def distance_transform(image, weights):\n",
    "    \"\"\"\n",
    "    Computes the distance transform of a binary image using the chamfer type of transforms.\n",
    "\n",
    "    Args:\n",
    "    - image (ndarray): The input binary image.\n",
    "    - weights (ndarray): The weights used for the chamfer type of transforms.\n",
    "\n",
    "    Returns:\n",
    "    - output (ndarray): The distance transform of the input image.\n",
    "    \"\"\"\n",
    "    # Compute the dimensions of the image and the weights\n",
    "    img_dims = np.ndim(image)\n",
    "    weights_dims = np.ndim(weights)\n",
    "\n",
    "    # Check if the dimensions of the image and the weights match\n",
    "    if img_dims != weights_dims:\n",
    "        raise ValueError(\"The dimensions of the image and the weights do not match.\")\n",
    "\n",
    "    # Initialize the output image to be the same as the input image\n",
    "    output = image.copy()\n",
    "\n",
    "    # Compute the distance transform\n",
    "    for i in range(image.ndim):\n",
    "        for pos in np.ndindex(image.shape):\n",
    "            if image[pos]:\n",
    "                min_dist = np.inf\n",
    "                for offset, weight in np.ndenumerate(weights):\n",
    "                    ref_pos = tuple(np.array(pos) + np.array(offset))\n",
    "                    if np.all(np.logical_and(np.array(ref_pos) >= 0, np.array(ref_pos) < image.shape)):\n",
    "                        dist = output[ref_pos] + weight\n",
    "                        if dist < min_dist:\n",
    "                            min_dist = dist\n",
    "                output[pos] = min_dist\n",
    "\n",
    "    return output\n"
   ]
  },
  {
   "cell_type": "code",
   "execution_count": null,
   "id": "81409bcd",
   "metadata": {},
   "outputs": [],
   "source": [
    "import numpy as np\n",
    "from scipy.spatial import cKDTree\n",
    "\n",
    "def distance_transform(image):\n",
    "    \"\"\"\n",
    "    Computes the exact Euclidean distance transform of a binary image.\n",
    "\n",
    "    Args:\n",
    "    - image (ndarray): The input binary image.\n",
    "\n",
    "    Returns:\n",
    "    - output (ndarray): The distance transform of the input image.\n",
    "    \"\"\"\n",
    "    # Compute the dimensions of the image\n",
    "    img_dims = np.ndim(image)\n",
    "\n",
    "    # Initialize the output image to be the same as the input image\n",
    "    output = np.zeros_like(image)\n",
    "\n",
    "    # Find the foreground and background pixels\n",
    "    foreground = np.argwhere(image)\n",
    "    background = np.argwhere(image == 0)\n",
    "\n",
    "    # Compute the distance transform\n",
    "    kdtree = cKDTree(foreground)\n",
    "    for pos in np.ndindex(image.shape):\n",
    "        if image[pos]:\n",
    "            dist, idx = kdtree.query(pos)\n",
    "            output[pos] = dist\n",
    "\n",
    "    # Compute the distance transform for the background pixels\n",
    "    kdtree = cKDTree(background)\n",
    "    for pos in np.ndindex(image.shape):\n",
    "        if not image[pos]:\n",
    "            dist, idx = kdtree.query(pos)\n",
    "            output[pos] = -dist\n",
    "\n",
    "    return output\n"
   ]
  },
  {
   "cell_type": "code",
   "execution_count": null,
   "id": "ddb19a2e",
   "metadata": {},
   "outputs": [],
   "source": [
    "import numpy as np\n",
    "from scipy.ndimage.morphology import binary_erosion\n",
    "\n",
    "def generate_binary_structure(radius, ndim):\n",
    "    \"\"\"\n",
    "    Generates a binary structuring element with the given radius and number of dimensions.\n",
    "\n",
    "    Args:\n",
    "    - radius (int): The radius of the structuring element.\n",
    "    - ndim (int): The number of dimensions of the structuring element.\n",
    "\n",
    "    Returns:\n",
    "    - struct (ndarray): The binary structuring element.\n",
    "    \"\"\"\n",
    "    # Create a square grid of side length 2*radius+1\n",
    "    grid = np.indices((2*radius+1,)*ndim) - radius\n",
    "\n",
    "    # Compute the Euclidean distance to the origin for each grid point\n",
    "    distances = np.linalg.norm(grid, axis=0)\n",
    "\n",
    "    # Threshold the distances to create the binary structuring element\n",
    "    struct = (distances <= radius).astype(int)\n",
    "\n",
    "    # Use binary erosion to ensure the structuring element is symmetric and has a hole in the center\n",
    "    for i in range(ndim):\n",
    "        struct = binary_erosion(struct, structure=np.ones((3,)*ndim))\n",
    "\n",
    "    return struct\n"
   ]
  },
  {
   "cell_type": "code",
   "execution_count": null,
   "id": "62325b51",
   "metadata": {},
   "outputs": [],
   "source": [
    "import numpy as np\n",
    "from scipy.ndimage.morphology import binary_erosion, binary_dilation\n",
    "\n",
    "def grayscale_closing(image, struct):\n",
    "    \"\"\"\n",
    "    Performs grayscale closing on the input image using the given structuring element.\n",
    "\n",
    "    Args:\n",
    "    - image (ndarray): The input grayscale image.\n",
    "    - struct (ndarray): The binary structuring element.\n",
    "\n",
    "    Returns:\n",
    "    - output (ndarray): The grayscale closing of the input image.\n",
    "    \"\"\"\n",
    "    # Perform binary erosion on the input image using the binary structuring element\n",
    "    eroded = binary_erosion(image, struct)\n",
    "\n",
    "    # Perform binary dilation on the eroded image using the binary structuring element\n",
    "    dilated = binary_dilation(eroded, struct)\n",
    "\n",
    "    # Return the result\n",
    "    output = dilated\n",
    "    return output\n"
   ]
  },
  {
   "cell_type": "code",
   "execution_count": null,
   "id": "da8cb056",
   "metadata": {},
   "outputs": [],
   "source": [
    "import numpy as np\n",
    "from scipy.ndimage.morphology import grey_dilation\n",
    "\n",
    "def grayscale_dilation(image, size):\n",
    "    \"\"\"\n",
    "    Performs grayscale dilation on the input image using a flat structuring element of the given size.\n",
    "\n",
    "    Args:\n",
    "    - image (ndarray): The input grayscale image.\n",
    "    - size (int or tuple of ints): The size of the flat structuring element.\n",
    "\n",
    "    Returns:\n",
    "    - output (ndarray): The grayscale dilation of the input image.\n",
    "    \"\"\"\n",
    "    # Perform grayscale dilation on the input image using a flat structuring element of the given size\n",
    "    dilated = grey_dilation(image, size=size)\n",
    "\n",
    "    # Return the result\n",
    "    output = dilated\n",
    "    return output\n"
   ]
  },
  {
   "cell_type": "code",
   "execution_count": null,
   "id": "9b1278ff",
   "metadata": {},
   "outputs": [],
   "source": [
    "import numpy as np\n",
    "from scipy.ndimage.filters import minimum_filter\n",
    "\n",
    "def grayscale_erosion(image, struct):\n",
    "    \"\"\"\n",
    "    Performs grayscale erosion on the input image using the given structuring element.\n",
    "\n",
    "    Args:\n",
    "    - image (ndarray): The input grayscale image.\n",
    "    - struct (ndarray): The binary structuring element.\n",
    "\n",
    "    Returns:\n",
    "    - output (ndarray): The grayscale erosion of the input image.\n",
    "    \"\"\"\n",
    "    # Perform minimum filtering on the input image using the binary structuring element\n",
    "    filtered = minimum_filter(image, footprint=struct)\n",
    "\n",
    "    # Return the result\n",
    "    output = filtered\n",
    "    return output\n"
   ]
  },
  {
   "cell_type": "code",
   "execution_count": null,
   "id": "4f885a9f",
   "metadata": {},
   "outputs": [],
   "source": [
    "import numpy as np\n",
    "from scipy.ndimage.filters import minimum_filter, maximum_filter\n",
    "\n",
    "def grayscale_opening(image, struct):\n",
    "    \"\"\"\n",
    "    Performs grayscale opening on the input image using the given structuring element.\n",
    "\n",
    "    Args:\n",
    "    - image (ndarray): The input grayscale image.\n",
    "    - struct (ndarray): The binary structuring element.\n",
    "\n",
    "    Returns:\n",
    "    - output (ndarray): The grayscale opening of the input image.\n",
    "    \"\"\"\n",
    "    # Perform grayscale erosion on the input image using the binary structuring element\n",
    "    eroded = minimum_filter(image, footprint=struct)\n",
    "\n",
    "    # Perform grayscale dilation on the eroded image using the binary structuring element\n",
    "    opened = maximum_filter(eroded, footprint=struct)\n",
    "\n",
    "    # Return the result\n",
    "    output = opened\n",
    "    return output\n"
   ]
  },
  {
   "cell_type": "code",
   "execution_count": null,
   "id": "f4b67504",
   "metadata": {},
   "outputs": [],
   "source": [
    "import numpy as np\n",
    "from scipy.ndimage.morphology import grey_erosion, grey_dilation\n",
    "\n",
    "def grayscale_opening(image, size):\n",
    "    \"\"\"\n",
    "    Performs grayscale opening on the input image using a flat structuring element of the given size.\n",
    "\n",
    "    Args:\n",
    "    - image (ndarray): The input grayscale image.\n",
    "    - size (int or tuple of ints): The size of the flat structuring element.\n",
    "\n",
    "    Returns:\n",
    "    - output (ndarray): The grayscale opening of the input image.\n",
    "    \"\"\"\n",
    "    # Perform grayscale erosion on the input image using a flat structuring element of the given size\n",
    "    eroded = grey_erosion(image, size=size)\n",
    "\n",
    "    # Perform grayscale dilation on the eroded image using a flat structuring element of the given size\n",
    "    opened = grey_dilation(eroded, size=size)\n",
    "\n",
    "    # Return the result\n",
    "    output = opened\n",
    "    return output\n"
   ]
  },
  {
   "cell_type": "code",
   "execution_count": null,
   "id": "e9fc5a0e",
   "metadata": {},
   "outputs": [],
   "source": [
    "import numpy as np\n",
    "from scipy.ndimage import binary_dilation\n",
    "\n",
    "def iterate_structure(structure, num_iterations):\n",
    "    \"\"\"\n",
    "    Dilates a structure with itself for the specified number of iterations.\n",
    "\n",
    "    Parameters:\n",
    "    structure (numpy.ndarray): The binary structure to dilate.\n",
    "    num_iterations (int): The number of iterations to perform.\n",
    "\n",
    "    Returns:\n",
    "    numpy.ndarray: The dilated structure.\n",
    "    # Define the input structure as a binary numpy array\n",
    "    input_structure = np.array([[0, 1, 0],\n",
    "                            [1, 1, 1],\n",
    "                            [0, 1, 0]])\n",
    "\n",
    "    # Define the number of iterations\n",
    "    num_iterations = 3\n",
    "\n",
    "    # Dilate the structure with itself for the specified number of iterations\n",
    "    dilated_structure = iterate_structure(input_structure, num_iterations)\n",
    "\n",
    "    # Print the dilated structure\n",
    "    print(dilated_structure)\n",
    "\n",
    "    \"\"\"\n",
    "\n",
    "    # Dilate the structure with itself for the specified number of iterations\n",
    "    dilated_structure = np.copy(structure)\n",
    "    for i in range(num_iterations):\n",
    "        dilated_structure = binary_dilation(dilated_structure, structure=structure)\n",
    "\n",
    "    return dilated_structure\n"
   ]
  },
  {
   "cell_type": "code",
   "execution_count": null,
   "id": "5f211a49",
   "metadata": {},
   "outputs": [],
   "source": [
    "import numpy as np\n",
    "from scipy.ndimage import morphology, sobel\n",
    "\n",
    "def morphological_gradient(image, structure):\n",
    "    \"\"\"\n",
    "    Computes the morphological gradient of a multidimensional image using a given structuring element.\n",
    "\n",
    "    Parameters:\n",
    "    image (numpy.ndarray): The input image.\n",
    "    structure (numpy.ndarray): The structuring element.\n",
    "\n",
    "    Returns:\n",
    "    numpy.ndarray: The morphological gradient of the input image.\n",
    "    \"\"\"\n",
    "\n",
    "    # Dilate and erode the image using the structuring element\n",
    "    dilated = morphology.grey_dilation(image, footprint=structure)\n",
    "    eroded = morphology.grey_erosion(image, footprint=structure)\n",
    "\n",
    "    # Compute the morphological gradient as the difference between the dilated and eroded images\n",
    "    gradient = dilated - eroded\n",
    "\n",
    "    return gradient\n",
    "\n",
    "# Example usage\n",
    "image = np.array([[[1, 2, 3],\n",
    "                   [2, 3, 4],\n",
    "                   [3, 4, 5]],\n",
    "                  [[2, 3, 4],\n",
    "                   [3, 4, 5],\n",
    "                   [4, 5, 6]],\n",
    "                  [[3, 4, 5],\n",
    "                   [4, 5, 6],\n",
    "                   [5, 6, 7]]])\n",
    "\n",
    "structure = np.ones((3, 3, 3))\n",
    "\n",
    "gradient = morphological_gradient(image, structure)\n",
    "\n",
    "print(gradient)\n"
   ]
  },
  {
   "cell_type": "code",
   "execution_count": null,
   "id": "657e0f3a",
   "metadata": {},
   "outputs": [],
   "source": [
    "import numpy as np\n",
    "from scipy.ndimage import morphology, laplace\n",
    "\n",
    "def morphological_laplace(image, structure):\n",
    "    \"\"\"\n",
    "    Computes the morphological Laplacian of a multidimensional image using a given structuring element.\n",
    "\n",
    "    Parameters:\n",
    "    image (numpy.ndarray): The input image.\n",
    "    structure (numpy.ndarray): The structuring element.\n",
    "\n",
    "    Returns:\n",
    "    numpy.ndarray: The morphological Laplacian of the input image.\n",
    "    \"\"\"\n",
    "\n",
    "    # Dilate and erode the image using the structuring element\n",
    "    dilated = morphology.grey_dilation(image, footprint=structure)\n",
    "    eroded = morphology.grey_erosion(image, footprint=structure)\n",
    "\n",
    "    # Compute the morphological Laplacian as the difference between the Laplacian of the dilated and eroded images\n",
    "    laplacian_dilated = laplace(dilated)\n",
    "    laplacian_eroded = laplace(eroded)\n",
    "    laplacian = laplacian_dilated - laplacian_eroded\n",
    "\n",
    "    return laplacian\n",
    "\n",
    "# Example usage\n",
    "image = np.array([[[1, 2, 3],\n",
    "                   [2, 3, 4],\n",
    "                   [3, 4, 5]],\n",
    "                  [[2, 3, 4],\n",
    "                   [3, 4, 5],\n",
    "                   [4, 5, 6]],\n",
    "                  [[3, 4, 5],\n",
    "                   [4, 5, 6],\n",
    "                   [5, 6, 7]]])\n",
    "\n",
    "structure = np.ones((3, 3, 3))\n",
    "\n",
    "laplacian = morphological_laplace(image, structure)\n",
    "\n",
    "print(laplacian)\n"
   ]
  },
  {
   "cell_type": "code",
   "execution_count": null,
   "id": "48c38406",
   "metadata": {},
   "outputs": [],
   "source": [
    "import numpy as np\n",
    "from scipy.ndimage import morphology, filters\n",
    "\n",
    "def white_tophat(image, structure):\n",
    "    \"\"\"\n",
    "    Computes the white top-hat filter of a multidimensional image using a given structuring element.\n",
    "\n",
    "    Parameters:\n",
    "    image (numpy.ndarray): The input image.\n",
    "    structure (numpy.ndarray): The structuring element.\n",
    "\n",
    "    Returns:\n",
    "    numpy.ndarray: The white top-hat filtered image.\n",
    "    \"\"\"\n",
    "\n",
    "    # Perform the white top-hat transform using the input image and structuring element\n",
    "    opening = morphology.white_tophat(image, footprint=structure)\n",
    "\n",
    "    # Subtract the opening from the original image to obtain the white top-hat filtered image\n",
    "    filtered = np.subtract(image, opening)\n",
    "\n",
    "    return filtered\n",
    "\n",
    "# Example usage\n",
    "image = np.array([[[1, 2, 3],\n",
    "                   [2, 3, 4],\n",
    "                   [3, 4, 5]],\n",
    "                  [[2, 3, 4],\n",
    "                   [3, 4, 5],\n",
    "                   [4, 5, 6]],\n",
    "                  [[3, 4, 5],\n",
    "                   [4, 5, 6],\n",
    "                   [5, 6, 7]]])\n",
    "\n",
    "structure = np.ones((3, 3, 3))\n",
    "\n",
    "filtered = white_tophat(image, structure)\n",
    "\n",
    "print(filtered)\n",
    "\n",
    "\n"
   ]
  },
  {
   "cell_type": "code",
   "execution_count": null,
   "id": "b61bb55c",
   "metadata": {},
   "outputs": [],
   "source": [
    "# Define the input image as a numpy array\n",
    "image = np.array([[[1, 2, 3],\n",
    "                   [2, 3, 4],\n",
    "                   [3, 4, 5]],\n",
    "                  [[2, 3, 4],\n",
    "                   [3, 4, 5],\n",
    "                   [4, 5, 6]],\n",
    "                  [[3, 4, 5],\n",
    "                   [4, 5, 6],\n",
    "                   [5, 6, 7]]])\n",
    "\n",
    "# Define the structuring element as a numpy array\n",
    "structure = np.ones((3, 3, 3))\n",
    "\n",
    "# Compute the white top-hat filtered image of the input image using the given structuring element\n",
    "filtered = white_tophat(image, structure)\n",
    "\n",
    "# Print the result\n",
    "print(filtered)\n"
   ]
  }
 ],
 "metadata": {
  "kernelspec": {
   "display_name": "Python 3 (ipykernel)",
   "language": "python",
   "name": "python3"
  },
  "language_info": {
   "codemirror_mode": {
    "name": "ipython",
    "version": 3
   },
   "file_extension": ".py",
   "mimetype": "text/x-python",
   "name": "python",
   "nbconvert_exporter": "python",
   "pygments_lexer": "ipython3",
   "version": "3.9.12"
  }
 },
 "nbformat": 4,
 "nbformat_minor": 5
}
