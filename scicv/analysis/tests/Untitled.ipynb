{
 "cells": [
  {
   "cell_type": "markdown",
   "id": "bbb0df61",
   "metadata": {},
   "source": [
    "entropy\tEntropy of grayscale image\n",
    "\n",
    "entropyfilt\tLocal entropy of grayscale image\n",
    "\n",
    "rangefilt\tLocal range of image\n",
    "\n",
    "stdfilt\tLocal standard deviation of image\n",
    "\n",
    "graycomatrix\tCreate gray-level co-occurrence matrix from image\n",
    "\n",
    "graycoprops\tProperties of gray-level co-occurrence matrix"
   ]
  },
  {
   "cell_type": "code",
   "execution_count": 1,
   "id": "05dc0c65",
   "metadata": {},
   "outputs": [],
   "source": [
    "import numpy as np\n",
    "from math import log2\n",
    "\n",
    "def entropy(img):\n",
    "    # Get image histogram\n",
    "    hist = np.histogram(img, bins=range(256))[0]\n",
    "    hist = hist / hist.sum()\n",
    "\n",
    "    # Calculate entropy\n",
    "    entropy = -np.sum([p * log2(p) for p in hist if p != 0])\n",
    "\n",
    "    return entropy"
   ]
  },
  {
   "cell_type": "code",
   "execution_count": null,
   "id": "eae7a1d8",
   "metadata": {},
   "outputs": [],
   "source": [
    "def histogram(img, levels=256):\n",
    "    # Get image shape\n",
    "    h, w = img.shape\n",
    "\n",
    "    # Initialize histogram\n",
    "    hist = np.zeros(levels)\n",
    "\n",
    "    # Calculate histogram\n",
    "    for i in range(h):\n",
    "        for j in range(w):\n",
    "            hist[img[i, j]] += 1\n",
    "\n",
    "    return hist"
   ]
  }
 ],
 "metadata": {
  "kernelspec": {
   "display_name": "Python 3 (ipykernel)",
   "language": "python",
   "name": "python3"
  },
  "language_info": {
   "codemirror_mode": {
    "name": "ipython",
    "version": 3
   },
   "file_extension": ".py",
   "mimetype": "text/x-python",
   "name": "python",
   "nbconvert_exporter": "python",
   "pygments_lexer": "ipython3",
   "version": "3.9.12"
  }
 },
 "nbformat": 4,
 "nbformat_minor": 5
}
