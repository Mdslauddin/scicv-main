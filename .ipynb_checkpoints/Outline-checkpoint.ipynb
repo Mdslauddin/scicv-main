{
 "cells": [
  {
   "cell_type": "markdown",
   "id": "d9178e12",
   "metadata": {},
   "source": [
    "### Libraries list \n",
    "- opencv\n",
    "- pillow \n",
    "- scikit-image\n",
    "- numpy \n",
    "- matplotlib\n",
    "- simpleitk\n",
    "- openside\n",
    "- mahotas\n",
    "- pil \n",
    "\n",
    "## Advance image learning like a deep learning\n",
    "\n",
    "- imgaug\n",
    "- scikit-learn\n",
    "- imbalanced-learn\n",
    "- image-itash\n",
    "- imagekit\n",
    "- pywavelets\n",
    "- opencv-python-tuturial \n",
    "- pyTorch \n",
    "- Tensorflow\n",
    "- keras \n",
    "\n"
   ]
  },
  {
   "cell_type": "markdown",
   "id": "2da33ca5",
   "metadata": {},
   "source": [
    "### Image filtering: \n",
    "- includes algorithm for **smoothing**, **sharpening**, and **edge detection** example include **median filter** , **Gaussian filter**, and **sobel filter**\n",
    "\n",
    "### Image segmentation : \n",
    "- include algorithms for an image into multiple segments or regions, example include thresholding, region growing , and watershed algorithms \n",
    "\n",
    "\n",
    "### Image Enhancement : \n",
    "- include algorithms for improcessing the  visual quality of an image  example include **histogram equalization**, **contrast  stretching** and **brightness adjustment**\n",
    "\n",
    "### Image Restoration : \n",
    "- include algorithms for removing noise and restoring an image to its original form , examples include\n",
    "inverse filtering , wiener filtering , and total variation denoising \n",
    "\n",
    "### Image Compression : \n",
    "- include algorithm for reducing the size of an image while maintaining its visual quality. examples  include lossess and lossy compression method such as jpeg and png \n",
    "\n",
    "### Object Detection and Recognition : \n",
    "- include algorithm for identifying and location objects in an image. example inlude template matching, features based method and deep learning - based mathod \n",
    "\n",
    "### Object Tracking : \n",
    "- include algorithms for identifying and tracking objects in video or iamge sequences example include kalman filter, particle filter, optical flow, and deep learning-based method\n",
    "\n",
    "### Image Recognition : \n",
    "- include algorithms for recognization the objects , scences and activities in images . example include deep learning based method such an cnn and transfer learning \n",
    "\n",
    "### Image Registration : \n",
    "- \n",
    "\n"
   ]
  },
  {
   "cell_type": "code",
   "execution_count": null,
   "id": "fa4dc6f0",
   "metadata": {},
   "outputs": [],
   "source": []
  }
 ],
 "metadata": {
  "kernelspec": {
   "display_name": "Python 3 (ipykernel)",
   "language": "python",
   "name": "python3"
  },
  "language_info": {
   "codemirror_mode": {
    "name": "ipython",
    "version": 3
   },
   "file_extension": ".py",
   "mimetype": "text/x-python",
   "name": "python",
   "nbconvert_exporter": "python",
   "pygments_lexer": "ipython3",
   "version": "3.9.12"
  }
 },
 "nbformat": 4,
 "nbformat_minor": 5
}
